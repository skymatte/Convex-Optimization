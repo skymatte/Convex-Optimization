{
 "cells": [
  {
   "cell_type": "markdown",
   "metadata": {
    "colab_type": "text",
    "id": "vI0fAq6tLTnV"
   },
   "source": [
    "#Import Libraries"
   ]
  },
  {
   "cell_type": "code",
   "execution_count": 26,
   "metadata": {
    "colab": {},
    "colab_type": "code",
    "id": "oNapRRR_pGnO"
   },
   "outputs": [],
   "source": [
    "#Uncomment the below line to install torchbearer\n",
    "#!pip install torchbearer\n",
    "import torch\n",
    "import torchbearer\n",
    "import numpy as np\n",
    "from torch import optim\n",
    "from torchbearer import Trial"
   ]
  },
  {
   "cell_type": "code",
   "execution_count": 27,
   "metadata": {
    "colab": {},
    "colab_type": "code",
    "id": "d1h-dLPApPfB"
   },
   "outputs": [],
   "source": [
    "#Code for ASGD Optimizer has been ported from https://github.com/rahulkidambi/AccSGD/blob/master/AccSGD.py\n",
    "\n",
    "from torch.optim.optimizer import Optimizer, required\n",
    "import copy\n",
    "\n",
    "class AccSGD(Optimizer):\n",
    "    r\"\"\"Implements the algorithm proposed in https://arxiv.org/pdf/1704.08227.pdf, which is a provably accelerated method \n",
    "    for stochastic optimization. This has been employed in https://openreview.net/forum?id=rJTutzbA- for training several \n",
    "    deep learning models of practical interest. This code has been implemented by building on the construction of the SGD \n",
    "    optimization module found in pytorch codebase.\n",
    "    Args:\n",
    "        params (iterable): iterable of parameters to optimize or dicts defining\n",
    "            parameter groups\n",
    "        lr (float): learning rate (required)\n",
    "        kappa (float, optional): ratio of long to short step (default: 1000)\n",
    "        xi (float, optional): statistical advantage parameter (default: 10)\n",
    "        smallConst (float, optional): any value <=1 (default: 0.7)\n",
    "    Example:\n",
    "        >>> from AccSGD import *\n",
    "        >>> optimizer = AccSGD(model.parameters(), lr=0.1, kappa = 1000.0, xi = 10.0)\n",
    "        >>> optimizer.zero_grad()\n",
    "        >>> loss_fn(model(input), target).backward()\n",
    "        >>> optimizer.step()\n",
    "    \"\"\"\n",
    "\n",
    "    def __init__(self, params, lr=0.001, kappa = 1000.0, xi = 10.0, smallConst = 0.7, weight_decay=0):\n",
    "        defaults = dict(lr=lr, kappa=kappa, xi=xi, smallConst=smallConst,\n",
    "                        weight_decay=weight_decay)\n",
    "        super(AccSGD, self).__init__(params, defaults)\n",
    "\n",
    "    def __setstate__(self, state):\n",
    "        super(AccSGD, self).__setstate__(state)\n",
    "\n",
    "    def step(self, closure=None):\n",
    "        \"\"\" Performs a single optimization step.\n",
    "        Arguments:\n",
    "            closure (callable, optional): A closure that reevaluates the model\n",
    "                and returns the loss.\n",
    "        \"\"\"\n",
    "        loss = None\n",
    "        if closure is not None:\n",
    "            loss = closure()\n",
    "\n",
    "        for group in self.param_groups:\n",
    "            weight_decay = group['weight_decay']\n",
    "            large_lr = (group['lr']*group['kappa'])/(group['smallConst'])\n",
    "            Alpha = 1.0 - ((group['smallConst']*group['smallConst']*group['xi'])/group['kappa'])\n",
    "            Beta = 1.0 - Alpha\n",
    "            zeta = group['smallConst']/(group['smallConst']+Beta)\n",
    "            for p in group['params']:\n",
    "                if p.grad is None:\n",
    "                    continue\n",
    "                d_p = p.grad.data\n",
    "                if weight_decay != 0:\n",
    "                    d_p.add_(weight_decay, p.data)\n",
    "                param_state = self.state[p]\n",
    "                if 'momentum_buffer' not in param_state:\n",
    "                    param_state['momentum_buffer'] = copy.deepcopy(p.data)\n",
    "                buf = param_state['momentum_buffer']\n",
    "                buf.mul_((1.0/Beta)-1.0)\n",
    "                buf.add_(-large_lr,d_p)\n",
    "                buf.add_(p.data)\n",
    "                buf.mul_(Beta)\n",
    "\n",
    "                p.data.add_(-group['lr'],d_p)\n",
    "                p.data.mul_(zeta)\n",
    "                p.data.add_(1.0-zeta,buf)\n",
    "\n",
    "        return loss"
   ]
  },
  {
   "cell_type": "markdown",
   "metadata": {
    "colab_type": "text",
    "id": "e19CQPayb4rT"
   },
   "source": [
    "#Prepare Data and Model Architecture for Training\n"
   ]
  },
  {
   "cell_type": "markdown",
   "metadata": {
    "colab_type": "text",
    "id": "t5KhzjR3av7r"
   },
   "source": [
    "#Download CIFAR10 Dataset"
   ]
  },
  {
   "cell_type": "code",
   "execution_count": 28,
   "metadata": {
    "colab": {
     "base_uri": "https://localhost:8080/",
     "height": 69
    },
    "colab_type": "code",
    "id": "IXmB5H_7pSS8",
    "outputId": "632f837c-7c8c-48c4-ef95-2c6490e551b0"
   },
   "outputs": [
    {
     "name": "stdout",
     "output_type": "stream",
     "text": [
      "Files already downloaded and verified\n",
      "Files already downloaded and verified\n",
      "Files already downloaded and verified\n"
     ]
    }
   ],
   "source": [
    "import torchvision.transforms as transforms\n",
    "import torchvision.datasets as datasets\n",
    "\n",
    "# fix random seed for reproducibility\n",
    "seed = 7\n",
    "torch.manual_seed(seed)\n",
    "torch.backends.cudnn.deterministic = True\n",
    "\n",
    "num_classes = 10\n",
    "\n",
    "mean = [x / 255 for x in [125.3, 123.0, 113.9]]\n",
    "std = [x / 255 for x in [63.0, 62.1, 66.7]]\n",
    "\n",
    "#Perform Data augmentation to make robust models without requiring larger dataset, using Randomly Flipping the Image Horizontally and Randomly Cropping the Image\n",
    "train_transform = transforms.Compose([transforms.RandomHorizontalFlip(), transforms.RandomCrop(32, padding=4), transforms.ToTensor(),transforms.Normalize(mean, std)])\n",
    "test_transform = transforms.Compose([transforms.ToTensor(), transforms.Normalize(mean, std)])\n",
    "\n",
    "#Download and Transform the datasets\n",
    "train_data = datasets.CIFAR10(root=\".\", train=True,  download=True, transform=train_transform)\n",
    "test_data = datasets.CIFAR10(root=\".\", train=False, download=True, transform=test_transform)\n",
    "valid_data = datasets.CIFAR10(root=\".\", train=True, download=True, transform=train_transform)"
   ]
  },
  {
   "cell_type": "markdown",
   "metadata": {
    "colab_type": "text",
    "id": "BlHv8kKxa6V4"
   },
   "source": [
    "##Split Data into Train and Validation Sets"
   ]
  },
  {
   "cell_type": "code",
   "execution_count": 29,
   "metadata": {
    "colab": {},
    "colab_type": "code",
    "id": "iNTQQejarTEa"
   },
   "outputs": [],
   "source": [
    "from torch.utils.data.sampler import SubsetRandomSampler\n",
    "\n",
    "#Split Train Data into Train and Validation Data\n",
    "#Desired ratio of split into Validation and Train Set\n",
    "ratio = 0.2\n",
    "num_train = len(train_data)\n",
    "indices = list(range(num_train))\n",
    "split = int(np.floor(ratio * num_train))\n",
    "\n",
    "np.random.seed(7)\n",
    "np.random.shuffle(indices)\n",
    "batch_size = 8\n",
    "\n",
    "train_idx, valid_idx = indices[split:], indices[:split]\n",
    "train_sampler = SubsetRandomSampler(train_idx)\n",
    "valid_sampler = SubsetRandomSampler(valid_idx)\n",
    "\n",
    "#Create Mini Batches for Train, Validation and Test Datasets\n",
    "train_loader = torch.utils.data.DataLoader(train_data, batch_size=batch_size, sampler=train_sampler, pin_memory=True)\n",
    "test_loader = torch.utils.data.DataLoader(test_data, batch_size=batch_size, shuffle=False, pin_memory=True)\n",
    "valid_loader = torch.utils.data.DataLoader(valid_data, batch_size=batch_size, sampler=valid_sampler, pin_memory=True)"
   ]
  },
  {
   "cell_type": "code",
   "execution_count": 30,
   "metadata": {
    "colab": {
     "base_uri": "https://localhost:8080/",
     "height": 86
    },
    "colab_type": "code",
    "id": "lsvVcCddEOW5",
    "outputId": "b7a0964a-bb43-4942-c1a9-6dc89b81b5bd"
   },
   "outputs": [
    {
     "name": "stdout",
     "output_type": "stream",
     "text": [
      "Count of Train MiniBatches:  5000\n",
      "Count of Validation MiniBatches:  1250\n",
      "Ratio of Count of Validation to Total Minibatches:  0.2\n",
      "Ratio of Count of Train to Total Minibatches:  0.8\n"
     ]
    }
   ],
   "source": [
    "print(\"Count of Train MiniBatches: \", len(train_loader))\n",
    "print(\"Count of Validation MiniBatches: \", len(valid_loader))\n",
    "print(\"Ratio of Count of Validation to Total Minibatches: \",len(valid_loader)/(len(valid_loader) + len(train_loader)))\n",
    "print(\"Ratio of Count of Train to Total Minibatches: \",len(train_loader)/(len(valid_loader) + len(train_loader)))"
   ]
  },
  {
   "cell_type": "markdown",
   "metadata": {
    "colab_type": "text",
    "id": "X1HcAzfmbuKB"
   },
   "source": [
    "##Create Resnet44 Architecture"
   ]
  },
  {
   "cell_type": "code",
   "execution_count": 31,
   "metadata": {
    "colab": {},
    "colab_type": "code",
    "id": "QRAQW9kTusJR"
   },
   "outputs": [],
   "source": [
    "#Resnet Architecture ported from https://github.com/pytorch/vision/blob/master/torchvision/models/resnet.py and along the lines of https://arxiv.org/abs/1512.03385\n",
    "\n",
    "import torch.nn as nn\n",
    "\n",
    "class DownsampleCIFAR(nn.Module):  \n",
    "\n",
    "  def __init__(self, nIn, nOut, stride):\n",
    "    super(DownsampleCIFAR, self).__init__() \n",
    "    assert stride == 2    \n",
    "    self.avg = nn.AvgPool2d(kernel_size=1, stride=stride)   \n",
    "\n",
    "  def forward(self, x):   \n",
    "    x = self.avg(x)  \n",
    "    return torch.cat((x, x.mul(0)), 1)  \n",
    "\n",
    "class ResnetBlock(nn.Module):\n",
    "\n",
    "  expansion = 1\n",
    "  def __init__(self, inplanes, planes, stride, downsample, Type):\n",
    "    super(ResnetBlock, self).__init__()\n",
    "\n",
    "    self.Type = Type\n",
    "\n",
    "    self.norm1 = nn.BatchNorm2d(inplanes)\n",
    "    self.conv_a = nn.Conv2d(inplanes, planes, 3, stride, padding = 1, bias = False)\n",
    "\n",
    "    self.norm2 = nn.BatchNorm2d(planes)\n",
    "    self.conv_b = nn.Conv2d(planes, planes, 3, stride = 1, padding = 1, bias = False)\n",
    "\n",
    "    self.relu = nn.ReLU(inplace = True)\n",
    "    self.downsample = downsample\n",
    "\n",
    "  \n",
    "  def forward(self, x):\n",
    "    initial = x\n",
    "\n",
    "    block = self.norm1(x)\n",
    "    block = self.relu(x)\n",
    "\n",
    "    if self.Type == 'both_preact':\n",
    "      initial = block\n",
    "\n",
    "    block = self.conv_a(block)\n",
    "    block = self.norm2(block)\n",
    "    block = self.relu(block)\n",
    "    block = self.conv_b(block)\n",
    "\n",
    "    if self.downsample is not None:\n",
    "     initial = self.downsample(initial)\n",
    "\n",
    "    return initial + block\n",
    "\n",
    "\n",
    "class Resnet(nn.Module):\n",
    "\n",
    "  def __init__(self, block, depth, num_classes):\n",
    "\n",
    "    super(Resnet, self).__init__()\n",
    "\n",
    "    self.num_classes = num_classes\n",
    "\n",
    "    layer_blocks = (depth-2)//6\n",
    "\n",
    "    self.conv = nn.Conv2d(3, 16, 3, 1, padding=1, bias = False)\n",
    "\n",
    "    self.inplanes = 16\n",
    "    self.conv1 = self.make_layer(block, 16, layer_blocks, 1)\n",
    "    self.conv2 = self.make_layer(block, 32, layer_blocks, 2)\n",
    "    self.conv3 = self.make_layer(block, 64, layer_blocks, 2)\n",
    "    self.final_activation = nn.Sequential(nn.BatchNorm2d(64*block.expansion), nn.ReLU(inplace=True))\n",
    "    self.avgpool = nn.AvgPool2d(8)\n",
    "    self.classifier = nn.Linear(64*block.expansion, num_classes)\n",
    "  \n",
    "  def make_layer(self, block, planes, blocks, stride = 1):\n",
    "    downsample = None\n",
    "\n",
    "    if (stride != 1 or self.inplanes != planes*block.expansion):\n",
    "      downsample = DownsampleCIFAR(self.inplanes, planes*block.expansion, stride)\n",
    "\n",
    "    layers = []\n",
    "    layers.append(block(self.inplanes, planes, stride, downsample, 'both_preact'))\n",
    "    self.inplanes = planes*block.expansion\n",
    "    for i in range(1, blocks):\n",
    "      layers.append(block(self.inplanes, planes, 1, None, 'normal'))\n",
    "\n",
    "    return nn.Sequential(*layers)\n",
    "\n",
    "  def forward(self, x):\n",
    "    x = self.conv(x)\n",
    "    x = self.conv1(x)\n",
    "    x = self.conv2(x)\n",
    "    x = self.conv3(x)\n",
    "    x = self.final_activation(x)\n",
    "    x = self.avgpool(x)\n",
    "    x = x.view(x.size(0), -1)\n",
    "    return self.classifier(x)\n"
   ]
  },
  {
   "cell_type": "markdown",
   "metadata": {
    "colab_type": "text",
    "id": "Yz0UKXIc0zha"
   },
   "source": [
    "#Decayed Hyperparameter Schedule"
   ]
  },
  {
   "cell_type": "markdown",
   "metadata": {
    "colab_type": "text",
    "id": "UgZZrYKH5zk7"
   },
   "source": [
    "##SGD"
   ]
  },
  {
   "cell_type": "code",
   "execution_count": 38,
   "metadata": {
    "colab": {},
    "colab_type": "code",
    "id": "7bdTME63rZbO"
   },
   "outputs": [],
   "source": [
    "def decayed_stats_SGD(lr, decay, epochs, change):\n",
    "\n",
    "  #Load PreResnet44\n",
    "  model = Resnet(ResnetBlock, 44, num_classes)\n",
    "  model.eval()\n",
    "\n",
    "  #Initialise all the metrics to be saved\n",
    "  train_loss_SGD = np.zeros(epochs)\n",
    "  train_accuracy_SGD = np.zeros(epochs)\n",
    "  valid_loss_SGD = np.zeros(epochs)\n",
    "  valid_accuracy_SGD = np.zeros(epochs)\n",
    "  test_accuracy_SGD = np.zeros(epochs)\n",
    "  test_loss_SGD = np.zeros(epochs)\n",
    "\n",
    "  loss_function = nn.CrossEntropyLoss()\n",
    "  device = \"cuda:0\" \n",
    "\n",
    "  #Initilise validation set error as criteria at change point\n",
    "  error = 100\n",
    "  prev_error = 100\n",
    "\n",
    "  for epoch in range(epochs):\n",
    "\n",
    "    #Creates a deep copy of the parameter and gradient tensors and makes them shareable to enable re-use of Resnet modules multiple times\n",
    "    model = copy.deepcopy(model)\n",
    "    optimiser = optim.SGD(model.parameters(), lr = lr, weight_decay=0.0005)\n",
    "    #Train the model on training data\n",
    "    trial = Trial(model, optimiser, loss_function, metrics=['loss', 'accuracy'], verbose=0).to(device)\n",
    "    trial.with_generators(train_loader, valid_loader, test_generator=test_loader)\n",
    "\n",
    "    result = trial.run(epochs=1)\n",
    "\n",
    "    #At change points, update the hyperparameters depending on whether validation error reduced by more than 1% or not\n",
    "    if epoch%change == 0:\n",
    "      if ((prev_error-error)/prev_error < 0.01) and epoch!=0:\n",
    "        \n",
    "        if lr/decay < 0.0000625:\n",
    "         lr = 0.0000625\n",
    "        else:\n",
    "            lr=lr/decay\n",
    "\n",
    "      else:\n",
    "          lr=lr\n",
    "\n",
    "      prev_error = error\n",
    "\n",
    "    #Compute the metrics on Test Dataset\n",
    "    test_metric = trial.evaluate(data_key=torchbearer.TEST_DATA)\n",
    "\n",
    "    #Store the metrics at each epoch\n",
    "    train_loss_SGD[epoch] = result[0]['loss']\n",
    "    train_accuracy_SGD[epoch] = result[0]['acc']\n",
    "    valid_loss_SGD[epoch] = result[0]['val_loss']\n",
    "    valid_accuracy_SGD[epoch] = result[0]['val_acc']\n",
    "    test_accuracy_SGD[epoch] = result[0]['test_acc']\n",
    "    test_loss_SGD[epoch] = result[0]['test_loss']\n",
    "\n",
    "    error = 1 - result[0]['val_acc']\n",
    "\n",
    "    print(epoch, lr, result)\n",
    "\n",
    "  return lr, train_loss_SGD, train_accuracy_SGD, valid_loss_SGD, valid_accuracy_SGD, test_loss_SGD, test_accuracy_SGD\n",
    "\n",
    "  \n"
   ]
  },
  {
   "cell_type": "code",
   "execution_count": null,
   "metadata": {
    "colab": {
     "base_uri": "https://localhost:8080/",
     "height": 384
    },
    "colab_type": "code",
    "id": "jW90X7kcSknn",
    "outputId": "b6bac2b3-68b3-4fa6-ca7f-1b6a16150809",
    "scrolled": true
   },
   "outputs": [
    {
     "name": "stdout",
     "output_type": "stream",
     "text": [
      "0 0.033 [{'running_loss': 1.3758032321929932, 'running_acc': 0.5074999928474426, 'loss': 1.6697766780853271, 'acc': 0.3806999921798706, 'val_loss': 1.2840301990509033, 'val_acc': 0.5358999967575073, 'train_steps': 5000, 'validation_steps': 1250, 'test_loss': 1.2559431791305542, 'test_acc': 0.5381999611854553}]\n",
      "1 0.033 [{'running_loss': 1.0719763040542603, 'running_acc': 0.5874999761581421, 'loss': 1.2202094793319702, 'acc': 0.5644499659538269, 'val_loss': 1.0344644784927368, 'val_acc': 0.6373999714851379, 'train_steps': 5000, 'validation_steps': 1250, 'test_loss': 0.9735557436943054, 'test_acc': 0.6597999930381775}]\n",
      "2 0.033 [{'running_loss': 0.9154149293899536, 'running_acc': 0.6775000095367432, 'loss': 1.0003331899642944, 'acc': 0.6531749963760376, 'val_loss': 1.0442771911621094, 'val_acc': 0.6395999789237976, 'train_steps': 5000, 'validation_steps': 1250, 'test_loss': 1.0464640855789185, 'test_acc': 0.6428999900817871}]\n",
      "3 0.033 [{'running_loss': 0.8318360447883606, 'running_acc': 0.7299999594688416, 'loss': 0.8664143085479736, 'acc': 0.703499972820282, 'val_loss': 0.7723872065544128, 'val_acc': 0.73499995470047, 'train_steps': 5000, 'validation_steps': 1250, 'test_loss': 0.7499217987060547, 'test_acc': 0.7434999942779541}]\n",
      "4 0.033 [{'running_loss': 0.7541869878768921, 'running_acc': 0.7524999976158142, 'loss': 0.7818530201911926, 'acc': 0.7340499758720398, 'val_loss': 0.7756296992301941, 'val_acc': 0.7348999977111816, 'train_steps': 5000, 'validation_steps': 1250, 'test_loss': 0.7509355545043945, 'test_acc': 0.7437999844551086}]\n",
      "5 0.033 [{'running_loss': 0.7243406772613525, 'running_acc': 0.7674999833106995, 'loss': 0.7166726589202881, 'acc': 0.7596249580383301, 'val_loss': 0.6270466446876526, 'val_acc': 0.7839999794960022, 'train_steps': 5000, 'validation_steps': 1250, 'test_loss': 0.5892568230628967, 'test_acc': 0.7911999821662903}]\n",
      "6 0.033 [{'running_loss': 0.6871194243431091, 'running_acc': 0.7574999928474426, 'loss': 0.6726537942886353, 'acc': 0.7734499573707581, 'val_loss': 0.6597025394439697, 'val_acc': 0.7737999558448792, 'train_steps': 5000, 'validation_steps': 1250, 'test_loss': 0.6275689005851746, 'test_acc': 0.7861999869346619}]\n",
      "7 0.033 [{'running_loss': 0.6010625958442688, 'running_acc': 0.7924999594688416, 'loss': 0.6370583176612854, 'acc': 0.7853749990463257, 'val_loss': 0.764229416847229, 'val_acc': 0.738599956035614, 'train_steps': 5000, 'validation_steps': 1250, 'test_loss': 0.7496882677078247, 'test_acc': 0.7465999722480774}]\n",
      "8 0.033 [{'running_loss': 0.5916066765785217, 'running_acc': 0.8125, 'loss': 0.6098327040672302, 'acc': 0.7948249578475952, 'val_loss': 0.5961982607841492, 'val_acc': 0.7963999509811401, 'train_steps': 5000, 'validation_steps': 1250, 'test_loss': 0.561306357383728, 'test_acc': 0.8068000078201294}]\n",
      "9 0.033 [{'running_loss': 0.4970051050186157, 'running_acc': 0.8174999952316284, 'loss': 0.5840632915496826, 'acc': 0.8014249801635742, 'val_loss': 0.5792436599731445, 'val_acc': 0.804099977016449, 'train_steps': 5000, 'validation_steps': 1250, 'test_loss': 0.5520300269126892, 'test_acc': 0.8151999711990356}]\n",
      "10 0.033 [{'running_loss': 0.5028949975967407, 'running_acc': 0.8349999785423279, 'loss': 0.5590807199478149, 'acc': 0.8114500045776367, 'val_loss': 0.6156480312347412, 'val_acc': 0.7892000079154968, 'train_steps': 5000, 'validation_steps': 1250, 'test_loss': 0.5973087549209595, 'test_acc': 0.802899956703186}]\n",
      "11 0.033 [{'running_loss': 0.5989934802055359, 'running_acc': 0.7824999690055847, 'loss': 0.5500645041465759, 'acc': 0.8143749833106995, 'val_loss': 0.6639005541801453, 'val_acc': 0.7797999978065491, 'train_steps': 5000, 'validation_steps': 1250, 'test_loss': 0.636562168598175, 'test_acc': 0.7874999642372131}]\n",
      "12 0.0066 [{'running_loss': 0.5527498722076416, 'running_acc': 0.7874999642372131, 'loss': 0.5349245667457581, 'acc': 0.8183499574661255, 'val_loss': 0.5912594795227051, 'val_acc': 0.8016999959945679, 'train_steps': 5000, 'validation_steps': 1250, 'test_loss': 0.5697042942047119, 'test_acc': 0.8037999868392944}]\n",
      "13 0.0066 [{'running_loss': 0.3648112118244171, 'running_acc': 0.8949999809265137, 'loss': 0.39443647861480713, 'acc': 0.8698499798774719, 'val_loss': 0.39763230085372925, 'val_acc': 0.8608999848365784, 'train_steps': 5000, 'validation_steps': 1250, 'test_loss': 0.38687318563461304, 'test_acc': 0.8668999671936035}]\n",
      "14 0.0066 [{'running_loss': 0.39125898480415344, 'running_acc': 0.875, 'loss': 0.36151716113090515, 'acc': 0.8780750036239624, 'val_loss': 0.3951823115348816, 'val_acc': 0.8693000078201294, 'train_steps': 5000, 'validation_steps': 1250, 'test_loss': 0.3703034818172455, 'test_acc': 0.8723999857902527}]\n",
      "15 0.0066 [{'running_loss': 0.27483630180358887, 'running_acc': 0.9249999523162842, 'loss': 0.3437184989452362, 'acc': 0.8848249912261963, 'val_loss': 0.4037644565105438, 'val_acc': 0.8621999621391296, 'train_steps': 5000, 'validation_steps': 1250, 'test_loss': 0.3866572380065918, 'test_acc': 0.8695999979972839}]\n",
      "16 0.0066 [{'running_loss': 0.3274000585079193, 'running_acc': 0.887499988079071, 'loss': 0.3313066065311432, 'acc': 0.8882249593734741, 'val_loss': 0.38619866967201233, 'val_acc': 0.8712999820709229, 'train_steps': 5000, 'validation_steps': 1250, 'test_loss': 0.3709150552749634, 'test_acc': 0.8736000061035156}]\n",
      "17 0.0066 [{'running_loss': 0.35824424028396606, 'running_acc': 0.8949999809265137, 'loss': 0.3247940242290497, 'acc': 0.8906999826431274, 'val_loss': 0.39297381043434143, 'val_acc': 0.8666999936103821, 'train_steps': 5000, 'validation_steps': 1250, 'test_loss': 0.36918550729751587, 'test_acc': 0.8763999938964844}]\n",
      "18 0.00132 [{'running_loss': 0.3170155882835388, 'running_acc': 0.8824999928474426, 'loss': 0.3185180723667145, 'acc': 0.8934249877929688, 'val_loss': 0.37883520126342773, 'val_acc': 0.8703999519348145, 'train_steps': 5000, 'validation_steps': 1250, 'test_loss': 0.3659086227416992, 'test_acc': 0.8743000030517578}]\n",
      "19 0.00132 [{'running_loss': 0.3105839192867279, 'running_acc': 0.887499988079071, 'loss': 0.27074193954467773, 'acc': 0.9097499847412109, 'val_loss': 0.3498438596725464, 'val_acc': 0.8794999718666077, 'train_steps': 5000, 'validation_steps': 1250, 'test_loss': 0.3356565237045288, 'test_acc': 0.8884999752044678}]\n"
     ]
    }
   ],
   "source": [
    "final_lr_SGD, train_loss_SGD, train_accuracy_SGD, valid_loss_SGD, valid_accuracy_SGD, test_loss_SGD, test_accuracy_SGD = decayed_stats_SGD(0.01, 5, 20, 3)"
   ]
  },
  {
   "cell_type": "markdown",
   "metadata": {
    "colab_type": "text",
    "id": "D0nZ1WPh6oDy"
   },
   "source": [
    "###Load Precomputed Metrics"
   ]
  },
  {
   "cell_type": "code",
   "execution_count": 32,
   "metadata": {
    "colab": {},
    "colab_type": "code",
    "id": "WPliXAgV9J7r"
   },
   "outputs": [],
   "source": [
    "# # Uncomment the below lines to restore the pre computed metrics for SGD on Batch Size 8 and Decayed Hyperparameter Schedule\n",
    "\n",
    "# final_lr_SGD = 0.01\n",
    "# train_loss_SGD = np.array([1.74049413, 1.32672071, 1.13034368, 0.99976659, 0.89558858,\n",
    "#        0.81559688, 0.74937862, 0.70619631, 0.65960217, 0.62637091,\n",
    "#        0.59688038, 0.5735209 , 0.54874414, 0.5305056 , 0.50636828,\n",
    "#        0.4897877 , 0.47212976, 0.45892313, 0.45019159, 0.44085321])\n",
    "# train_accuracy_SGD = np.array([0.35402498, 0.53179997, 0.6049    , 0.65062499, 0.69072497,\n",
    "#        0.72099996, 0.74614996, 0.76179999, 0.77689999, 0.78724998,\n",
    "#        0.79947495, 0.80619997, 0.81535   , 0.820225  , 0.83015001,\n",
    "#        0.83517498, 0.8416    , 0.84529996, 0.84779996, 0.85049999])\n",
    "# valid_loss_SGD = np.array([1.56016028, 1.12439167, 1.08005238, 0.84790164, 0.80270326,\n",
    "#        0.71018088, 0.69935906, 0.64984971, 0.67552048, 0.63846672,\n",
    "#        0.58391827, 0.64078027, 0.59404677, 0.56540722, 0.55567014,\n",
    "#        0.52006042, 0.5459255 , 0.53123826, 0.49333715, 0.5129174 ])\n",
    "# valid_accuracy_SGD = np.array([0.42829999, 0.60139996, 0.61909997, 0.69889998, 0.71859998,\n",
    "#        0.75749999, 0.76089996, 0.77609998, 0.76269996, 0.77919996,\n",
    "#        0.79909998, 0.78009999, 0.79710001, 0.80680001, 0.81209999,\n",
    "#        0.82440001, 0.81729996, 0.82239997, 0.83629996, 0.82389998])\n",
    "# test_loss_SGD = np.array([1.53054953, 1.0633769 , 1.04497325, 0.81752396, 0.77344853,\n",
    "#        0.67470473, 0.67539048, 0.6091345 , 0.64867938, 0.63710093,\n",
    "#        0.57226866, 0.67314076, 0.56828457, 0.5531289 , 0.55596191,\n",
    "#        0.50270659, 0.50844365, 0.54118681, 0.47233084, 0.48605791])\n",
    "# test_accuracy_SGD = np.array([0.45089999, 0.6153    , 0.63119996, 0.71669996, 0.73939997,\n",
    "#        0.77019995, 0.77319998, 0.79350001, 0.77999997, 0.78539997,\n",
    "#        0.81169999, 0.7784    , 0.80579996, 0.8179    , 0.81819999,\n",
    "#        0.83029997, 0.82949996, 0.82409996, 0.8427    , 0.83709997])"
   ]
  },
  {
   "cell_type": "code",
   "execution_count": 33,
   "metadata": {
    "colab": {
     "base_uri": "https://localhost:8080/",
     "height": 451
    },
    "colab_type": "code",
    "id": "-6H5pANxgeVm",
    "outputId": "5aea3c95-2296-4a43-ff73-2bce0f6af0d2",
    "scrolled": true
   },
   "outputs": [
    {
     "name": "stdout",
     "output_type": "stream",
     "text": [
      "Final Learning Rate reached at the end of training:  0.01\n",
      "Training Loss Set:  array([1.74049413, 1.32672071, 1.13034368, 0.99976659, 0.89558858,\n",
      "       0.81559688, 0.74937862, 0.70619631, 0.65960217, 0.62637091,\n",
      "       0.59688038, 0.5735209 , 0.54874414, 0.5305056 , 0.50636828,\n",
      "       0.4897877 , 0.47212976, 0.45892313, 0.45019159, 0.44085321])\n",
      "Training Accuracy Set:  array([0.35402498, 0.53179997, 0.6049    , 0.65062499, 0.69072497,\n",
      "       0.72099996, 0.74614996, 0.76179999, 0.77689999, 0.78724998,\n",
      "       0.79947495, 0.80619997, 0.81535   , 0.820225  , 0.83015001,\n",
      "       0.83517498, 0.8416    , 0.84529996, 0.84779996, 0.85049999])\n",
      "Validation Loss Set:  array([1.56016028, 1.12439167, 1.08005238, 0.84790164, 0.80270326,\n",
      "       0.71018088, 0.69935906, 0.64984971, 0.67552048, 0.63846672,\n",
      "       0.58391827, 0.64078027, 0.59404677, 0.56540722, 0.55567014,\n",
      "       0.52006042, 0.5459255 , 0.53123826, 0.49333715, 0.5129174 ])\n",
      "Validation Accuracy Set:  array([0.42829999, 0.60139996, 0.61909997, 0.69889998, 0.71859998,\n",
      "       0.75749999, 0.76089996, 0.77609998, 0.76269996, 0.77919996,\n",
      "       0.79909998, 0.78009999, 0.79710001, 0.80680001, 0.81209999,\n",
      "       0.82440001, 0.81729996, 0.82239997, 0.83629996, 0.82389998])\n",
      "Test Loss Set:  array([1.53054953, 1.0633769 , 1.04497325, 0.81752396, 0.77344853,\n",
      "       0.67470473, 0.67539048, 0.6091345 , 0.64867938, 0.63710093,\n",
      "       0.57226866, 0.67314076, 0.56828457, 0.5531289 , 0.55596191,\n",
      "       0.50270659, 0.50844365, 0.54118681, 0.47233084, 0.48605791])\n",
      "Test Accuracy Set:  array([0.45089999, 0.6153    , 0.63119996, 0.71669996, 0.73939997,\n",
      "       0.77019995, 0.77319998, 0.79350001, 0.77999997, 0.78539997,\n",
      "       0.81169999, 0.7784    , 0.80579996, 0.8179    , 0.81819999,\n",
      "       0.83029997, 0.82949996, 0.82409996, 0.8427    , 0.83709997])\n"
     ]
    }
   ],
   "source": [
    "print(\"Final Learning Rate reached at the end of training: \", final_lr_SGD)\n",
    "print(\"Training Loss Set: \", repr(train_loss_SGD))\n",
    "print(\"Training Accuracy Set: \",repr(train_accuracy_SGD))\n",
    "print(\"Validation Loss Set: \", repr(valid_loss_SGD))\n",
    "print(\"Validation Accuracy Set: \",repr(valid_accuracy_SGD))\n",
    "print(\"Test Loss Set: \", repr(test_loss_SGD))\n",
    "print(\"Test Accuracy Set: \",repr(test_accuracy_SGD))"
   ]
  },
  {
   "cell_type": "markdown",
   "metadata": {
    "colab_type": "text",
    "id": "uoHpFr1NrDOi"
   },
   "source": [
    "##Heavy Ball"
   ]
  },
  {
   "cell_type": "code",
   "execution_count": 41,
   "metadata": {
    "colab": {},
    "colab_type": "code",
    "id": "QkBjIoIqBbEG"
   },
   "outputs": [],
   "source": [
    "def decayed_stats_HeavyBall(lr, momentum, decay, epochs, change):\n",
    "\n",
    "  #Load PreResnet44\n",
    "  model = Resnet(ResnetBlock, 44, num_classes)\n",
    "  model.eval()\n",
    "\n",
    "  #Initialise all the metrics to be saved\n",
    "  train_loss_HeavyBall = np.zeros(epochs)\n",
    "  train_accuracy_HeavyBall = np.zeros(epochs)\n",
    "  valid_loss_HeavyBall = np.zeros(epochs)\n",
    "  valid_accuracy_HeavyBall = np.zeros(epochs)\n",
    "  test_accuracy_HeavyBall = np.zeros(epochs)\n",
    "  test_loss_HeavyBall = np.zeros(epochs)\n",
    "\n",
    "  loss_function = nn.CrossEntropyLoss()\n",
    "  device = \"cuda:0\" \n",
    "\n",
    "  #Initilise validation set error as criteria at change point\n",
    "  error = 100\n",
    "  prev_error = 100\n",
    "\n",
    "  for epoch in range(epochs):\n",
    "\n",
    "    #Creates a deep copy of the parameter and gradient tensors and makes them shareable to enable re-use of Resnet modules multiple times\n",
    "    model = copy.deepcopy(model)\n",
    "    optimiser = optim.SGD(model.parameters(), lr = lr, momentum = momentum, weight_decay=0.0005)\n",
    "    #Train the model on training data\n",
    "    trial = Trial(model, optimiser, loss_function, metrics=['loss', 'accuracy'],  verbose=0).to(device)\n",
    "    trial.with_generators(train_loader, valid_loader, test_generator=test_loader)\n",
    "\n",
    "    result = trial.run(epochs=1)\n",
    "\n",
    "    #At change points, update the hyperparameters depending on whether validation error reduced by more than 1% or not\n",
    "    if epoch%change == 0:\n",
    "      if ((prev_error-error)/prev_error < 0.01)  and epoch!=0:\n",
    "        \n",
    "        if lr/decay < 0.0000625:\n",
    "         lr = 0.0000625\n",
    "        else:\n",
    "            lr=lr/decay\n",
    "\n",
    "      else:\n",
    "          lr=lr\n",
    "\n",
    "      prev_error = error\n",
    "\n",
    "    #Compute the metrics on Test Dataset\n",
    "    trial.evaluate(data_key=torchbearer.TEST_DATA)\n",
    "\n",
    "    #Store the metrics at each epoch\n",
    "    train_loss_HeavyBall[epoch] = result[0]['loss']\n",
    "    train_accuracy_HeavyBall[epoch] = result[0]['acc']\n",
    "    valid_loss_HeavyBall[epoch] = result[0]['val_loss']\n",
    "    valid_accuracy_HeavyBall[epoch] = result[0]['val_acc']\n",
    "    test_accuracy_HeavyBall[epoch] = result[0]['test_acc']\n",
    "    test_loss_HeavyBall[epoch] = result[0]['test_loss']\n",
    "\n",
    "    error = 1 - result[0]['val_acc']\n",
    "\n",
    "    print(epoch, lr, momentum, result)\n",
    "      \n",
    "  return lr, train_loss_HeavyBall, train_accuracy_HeavyBall, valid_loss_HeavyBall, valid_accuracy_HeavyBall, test_loss_HeavyBall, test_accuracy_HeavyBall\n",
    "    \n"
   ]
  },
  {
   "cell_type": "code",
   "execution_count": 43,
   "metadata": {
    "colab": {
     "base_uri": "https://localhost:8080/",
     "height": 384
    },
    "colab_type": "code",
    "id": "0gb3Mbt1qJk_",
    "outputId": "cf7651c5-1335-4c91-901a-b5fc65590965",
    "scrolled": true
   },
   "outputs": [
    {
     "name": "stdout",
     "output_type": "stream",
     "text": [
      "0 0.033 0.8 [{'running_loss': 1.3558720350265503, 'running_acc': 0.4749999940395355, 'loss': 1.6785290241241455, 'acc': 0.38165000081062317, 'val_loss': 1.3893768787384033, 'val_acc': 0.495199978351593, 'train_steps': 5000, 'validation_steps': 1250, 'test_loss': 1.3275483846664429, 'test_acc': 0.5180000066757202}]\n",
      "1 0.033 0.8 [{'running_loss': 1.1386094093322754, 'running_acc': 0.612500011920929, 'loss': 1.2373193502426147, 'acc': 0.56107497215271, 'val_loss': 1.0400121212005615, 'val_acc': 0.6381999850273132, 'train_steps': 5000, 'validation_steps': 1250, 'test_loss': 0.9865331053733826, 'test_acc': 0.652999997138977}]\n",
      "2 0.033 0.8 [{'running_loss': 0.9851047396659851, 'running_acc': 0.675000011920929, 'loss': 1.0433870553970337, 'acc': 0.6370999813079834, 'val_loss': 1.012121319770813, 'val_acc': 0.6500999927520752, 'train_steps': 5000, 'validation_steps': 1250, 'test_loss': 0.9847530126571655, 'test_acc': 0.6649999618530273}]\n",
      "3 0.033 0.8 [{'running_loss': 0.9640704393386841, 'running_acc': 0.6800000071525574, 'loss': 0.951096773147583, 'acc': 0.6706500053405762, 'val_loss': 0.9774288535118103, 'val_acc': 0.6711999773979187, 'train_steps': 5000, 'validation_steps': 1250, 'test_loss': 0.970289945602417, 'test_acc': 0.6765999794006348}]\n",
      "4 0.033 0.8 [{'running_loss': 0.952664315700531, 'running_acc': 0.6649999618530273, 'loss': 0.8895903825759888, 'acc': 0.6950500011444092, 'val_loss': 0.8652207851409912, 'val_acc': 0.7001000046730042, 'train_steps': 5000, 'validation_steps': 1250, 'test_loss': 0.863379955291748, 'test_acc': 0.7119999527931213}]\n",
      "5 0.033 0.8 [{'running_loss': 0.7479829788208008, 'running_acc': 0.7274999618530273, 'loss': 0.8523983359336853, 'acc': 0.7072749733924866, 'val_loss': 0.8696243762969971, 'val_acc': 0.704800009727478, 'train_steps': 5000, 'validation_steps': 1250, 'test_loss': 0.8630726337432861, 'test_acc': 0.7152999639511108}]\n",
      "6 0.033 0.8 [{'running_loss': 0.7991451621055603, 'running_acc': 0.7174999713897705, 'loss': 0.8247260451316833, 'acc': 0.7184999585151672, 'val_loss': 0.906457781791687, 'val_acc': 0.7015999555587769, 'train_steps': 5000, 'validation_steps': 1250, 'test_loss': 0.8954408764839172, 'test_acc': 0.7098999619483948}]\n",
      "7 0.033 0.8 [{'running_loss': 0.7330688238143921, 'running_acc': 0.7549999952316284, 'loss': 0.8002663850784302, 'acc': 0.7286750078201294, 'val_loss': 0.8431517481803894, 'val_acc': 0.7103999853134155, 'train_steps': 5000, 'validation_steps': 1250, 'test_loss': 0.8455719351768494, 'test_acc': 0.7120999693870544}]\n",
      "8 0.033 0.8 [{'running_loss': 0.816644549369812, 'running_acc': 0.7425000071525574, 'loss': 0.7878625392913818, 'acc': 0.7336499691009521, 'val_loss': 0.8043062686920166, 'val_acc': 0.7134000062942505, 'train_steps': 5000, 'validation_steps': 1250, 'test_loss': 0.8128817081451416, 'test_acc': 0.7181999683380127}]\n",
      "9 0.033 0.8 [{'running_loss': 0.6724347472190857, 'running_acc': 0.7749999761581421, 'loss': 0.7784669995307922, 'acc': 0.7374249696731567, 'val_loss': 0.8354619741439819, 'val_acc': 0.711899995803833, 'train_steps': 5000, 'validation_steps': 1250, 'test_loss': 0.7783932089805603, 'test_acc': 0.7379999756813049}]\n",
      "10 0.033 0.8 [{'running_loss': 0.7134310007095337, 'running_acc': 0.7549999952316284, 'loss': 0.7597163915634155, 'acc': 0.7414000034332275, 'val_loss': 0.8644409775733948, 'val_acc': 0.7053999900817871, 'train_steps': 5000, 'validation_steps': 1250, 'test_loss': 0.9003223180770874, 'test_acc': 0.7060999870300293}]\n",
      "11 0.033 0.8 [{'running_loss': 0.7786037921905518, 'running_acc': 0.7450000047683716, 'loss': 0.7571479082107544, 'acc': 0.7421000003814697, 'val_loss': 0.8437879681587219, 'val_acc': 0.7069999575614929, 'train_steps': 5000, 'validation_steps': 1250, 'test_loss': 0.839554488658905, 'test_acc': 0.7184000015258789}]\n",
      "12 0.0066 0.8 [{'running_loss': 0.7551428079605103, 'running_acc': 0.7249999642372131, 'loss': 0.7394739389419556, 'acc': 0.7492749691009521, 'val_loss': 0.8828192353248596, 'val_acc': 0.7116000056266785, 'train_steps': 5000, 'validation_steps': 1250, 'test_loss': 0.9102067947387695, 'test_acc': 0.715999960899353}]\n",
      "13 0.0066 0.8 [{'running_loss': 0.47243884205818176, 'running_acc': 0.8499999642372131, 'loss': 0.5249786376953125, 'acc': 0.8227750062942505, 'val_loss': 0.49445322155952454, 'val_acc': 0.8290999531745911, 'train_steps': 5000, 'validation_steps': 1250, 'test_loss': 0.46410223841667175, 'test_acc': 0.8410999774932861}]\n",
      "14 0.0066 0.8 [{'running_loss': 0.5150144100189209, 'running_acc': 0.824999988079071, 'loss': 0.4771280288696289, 'acc': 0.8380999565124512, 'val_loss': 0.46857884526252747, 'val_acc': 0.8452000021934509, 'train_steps': 5000, 'validation_steps': 1250, 'test_loss': 0.44009172916412354, 'test_acc': 0.8502999544143677}]\n",
      "15 0.0066 0.8 [{'running_loss': 0.47551676630973816, 'running_acc': 0.8374999761581421, 'loss': 0.4601324498653412, 'acc': 0.8451249599456787, 'val_loss': 0.49520188570022583, 'val_acc': 0.8317999839782715, 'train_steps': 5000, 'validation_steps': 1250, 'test_loss': 0.46864309906959534, 'test_acc': 0.8416999578475952}]\n",
      "16 0.0066 0.8 [{'running_loss': 0.44315066933631897, 'running_acc': 0.8499999642372131, 'loss': 0.45113974809646606, 'acc': 0.8477999567985535, 'val_loss': 0.4917060434818268, 'val_acc': 0.8333999514579773, 'train_steps': 5000, 'validation_steps': 1250, 'test_loss': 0.46816614270210266, 'test_acc': 0.8417999744415283}]\n",
      "17 0.0066 0.8 [{'running_loss': 0.4644784927368164, 'running_acc': 0.8474999666213989, 'loss': 0.44902923703193665, 'acc': 0.8476749658584595, 'val_loss': 0.47910556197166443, 'val_acc': 0.8341000080108643, 'train_steps': 5000, 'validation_steps': 1250, 'test_loss': 0.4580075442790985, 'test_acc': 0.8423999547958374}]\n",
      "18 0.00132 0.8 [{'running_loss': 0.42264044284820557, 'running_acc': 0.8499999642372131, 'loss': 0.44656985998153687, 'acc': 0.8479499816894531, 'val_loss': 0.47683924436569214, 'val_acc': 0.8385999798774719, 'train_steps': 5000, 'validation_steps': 1250, 'test_loss': 0.44912439584732056, 'test_acc': 0.8461999893188477}]\n",
      "19 0.00132 0.8 [{'running_loss': 0.25937914848327637, 'running_acc': 0.92249995470047, 'loss': 0.33835190534591675, 'acc': 0.8879500031471252, 'val_loss': 0.37694311141967773, 'val_acc': 0.8718999624252319, 'train_steps': 5000, 'validation_steps': 1250, 'test_loss': 0.3558826148509979, 'test_acc': 0.8788999915122986}]\n"
     ]
    }
   ],
   "source": [
    "final_lr_HeavyBall, train_loss_HeavyBall, train_accuracy_HeavyBall, valid_loss_HeavyBall, valid_accuracy_HeavyBall, test_loss_HeavyBall, test_accuracy_HeavyBall = decayed_stats_HeavyBall(0.01, 0.8, 5, 20, 3)"
   ]
  },
  {
   "cell_type": "markdown",
   "metadata": {
    "colab_type": "text",
    "id": "Rs6NAC3g7qQv"
   },
   "source": [
    "###Load Precomputed Metrics"
   ]
  },
  {
   "cell_type": "code",
   "execution_count": 34,
   "metadata": {
    "colab": {},
    "colab_type": "code",
    "id": "C56sZZod9gIm"
   },
   "outputs": [],
   "source": [
    "# Uncomment the below lines to restore the pre computed metrics for Heavy Ball on Batch Size 8 and Decayed Hyperparameter Schedule\n",
    "\n",
    "# final_lr_HeavyBall = 0.002\n",
    "# train_loss_HeavyBall = np.array([1.66774094, 1.24852133, 1.0471195 , 0.91592354, 0.82082087,\n",
    "#        0.74844289, 0.70885819, 0.6736992 , 0.64598846, 0.61945122,\n",
    "#        0.60606438, 0.58594513, 0.57488233, 0.42195585, 0.3832303 ,\n",
    "#        0.36717811, 0.35257769, 0.34855446, 0.33960181, 0.32915324])\n",
    "# train_accuracy_HeavyBall = np.array([0.38395   , 0.55577499, 0.63244998, 0.68232501, 0.71669996,\n",
    "#        0.74307495, 0.75957501, 0.77109998, 0.782175  , 0.79087496,\n",
    "#        0.79444999, 0.80032498, 0.80619997, 0.85677499, 0.87049997,\n",
    "#        0.87647498, 0.88249999, 0.88249999, 0.88575   , 0.889     ])\n",
    "# valid_loss_HeavyBall = np.array([1.42731965, 1.10787272, 1.05332899, 0.85534352, 0.7891888 ,\n",
    "#        0.79466641, 0.70659292, 0.76722836, 0.60918164, 0.59098113,\n",
    "#        0.58385986, 0.61728853, 0.62941593, 0.41651708, 0.42061454,\n",
    "#        0.39832652, 0.39219046, 0.41460711, 0.40510291, 0.38520691])\n",
    "# valid_accuracy_HeavyBall = np.array([0.4777    , 0.60869998, 0.6243    , 0.70929998, 0.72719997,\n",
    "#        0.72889996, 0.7525    , 0.7457    , 0.78959996, 0.8028    ,\n",
    "#        0.79869998, 0.78929996, 0.78009999, 0.85819995, 0.85789996,\n",
    "#        0.86519998, 0.8653    , 0.8624    , 0.86309999, 0.86829996])\n",
    "# test_loss_HeavyBall = np.array([1.36539793, 1.03675103, 1.03521919, 0.85099   , 0.73918033,\n",
    "#        0.78422374, 0.68224454, 0.71730119, 0.59205103, 0.55135512,\n",
    "#        0.57191551, 0.61436087, 0.62529236, 0.38439932, 0.39530611,\n",
    "#        0.38241714, 0.37043849, 0.41040561, 0.39014727, 0.37429655])\n",
    "# test_accuracy_HeavyBall = np.array([0.50589997, 0.63069999, 0.64109999, 0.71919996, 0.74589998,\n",
    "#        0.7335    , 0.76749998, 0.76209998, 0.79749995, 0.81049997,\n",
    "#        0.80909997, 0.79179996, 0.79109997, 0.86869997, 0.86919999,\n",
    "#        0.87      , 0.87509996, 0.86799997, 0.86750001, 0.8732    ])"
   ]
  },
  {
   "cell_type": "code",
   "execution_count": 35,
   "metadata": {
    "colab": {
     "base_uri": "https://localhost:8080/",
     "height": 451
    },
    "colab_type": "code",
    "id": "JN0Rc0hE6iEs",
    "outputId": "1d98ee6f-696a-4805-e597-93803b1ab773",
    "scrolled": true
   },
   "outputs": [
    {
     "name": "stdout",
     "output_type": "stream",
     "text": [
      "Final Learning Rate reached at the end of training:  0.002\n",
      "Training Loss Set:  array([1.66774094, 1.24852133, 1.0471195 , 0.91592354, 0.82082087,\n",
      "       0.74844289, 0.70885819, 0.6736992 , 0.64598846, 0.61945122,\n",
      "       0.60606438, 0.58594513, 0.57488233, 0.42195585, 0.3832303 ,\n",
      "       0.36717811, 0.35257769, 0.34855446, 0.33960181, 0.32915324])\n",
      "Training Accuracy Set:  array([0.38395   , 0.55577499, 0.63244998, 0.68232501, 0.71669996,\n",
      "       0.74307495, 0.75957501, 0.77109998, 0.782175  , 0.79087496,\n",
      "       0.79444999, 0.80032498, 0.80619997, 0.85677499, 0.87049997,\n",
      "       0.87647498, 0.88249999, 0.88249999, 0.88575   , 0.889     ])\n",
      "Validation Loss Set:  array([1.42731965, 1.10787272, 1.05332899, 0.85534352, 0.7891888 ,\n",
      "       0.79466641, 0.70659292, 0.76722836, 0.60918164, 0.59098113,\n",
      "       0.58385986, 0.61728853, 0.62941593, 0.41651708, 0.42061454,\n",
      "       0.39832652, 0.39219046, 0.41460711, 0.40510291, 0.38520691])\n",
      "Validation Accuracy Set:  array([0.4777    , 0.60869998, 0.6243    , 0.70929998, 0.72719997,\n",
      "       0.72889996, 0.7525    , 0.7457    , 0.78959996, 0.8028    ,\n",
      "       0.79869998, 0.78929996, 0.78009999, 0.85819995, 0.85789996,\n",
      "       0.86519998, 0.8653    , 0.8624    , 0.86309999, 0.86829996])\n",
      "Test Loss Set:  array([1.36539793, 1.03675103, 1.03521919, 0.85099   , 0.73918033,\n",
      "       0.78422374, 0.68224454, 0.71730119, 0.59205103, 0.55135512,\n",
      "       0.57191551, 0.61436087, 0.62529236, 0.38439932, 0.39530611,\n",
      "       0.38241714, 0.37043849, 0.41040561, 0.39014727, 0.37429655])\n",
      "Test Accuracy Set:  array([0.50589997, 0.63069999, 0.64109999, 0.71919996, 0.74589998,\n",
      "       0.7335    , 0.76749998, 0.76209998, 0.79749995, 0.81049997,\n",
      "       0.80909997, 0.79179996, 0.79109997, 0.86869997, 0.86919999,\n",
      "       0.87      , 0.87509996, 0.86799997, 0.86750001, 0.8732    ])\n"
     ]
    }
   ],
   "source": [
    "print(\"Final Learning Rate reached at the end of training: \", final_lr_HeavyBall)\n",
    "print(\"Training Loss Set: \",repr(train_loss_HeavyBall))\n",
    "print(\"Training Accuracy Set: \",repr(train_accuracy_HeavyBall))\n",
    "print(\"Validation Loss Set: \", repr(valid_loss_HeavyBall))\n",
    "print(\"Validation Accuracy Set: \",repr(valid_accuracy_HeavyBall))\n",
    "print(\"Test Loss Set: \", repr(test_loss_HeavyBall))\n",
    "print(\"Test Accuracy Set: \",repr(test_accuracy_HeavyBall))"
   ]
  },
  {
   "cell_type": "markdown",
   "metadata": {
    "colab_type": "text",
    "id": "4M15o51L7fMA"
   },
   "source": [
    "##NAG"
   ]
  },
  {
   "cell_type": "code",
   "execution_count": null,
   "metadata": {
    "colab": {},
    "colab_type": "code",
    "id": "L4gwW0NbDLXp"
   },
   "outputs": [],
   "source": [
    "def decayed_stats_NAG(lr, momentum, decay, epochs, change):\n",
    "\n",
    "  #Load PreResnet44\n",
    "  model = Resnet(ResnetBlock, 44, num_classes)\n",
    "  model.eval()\n",
    "\n",
    "  #Initialise all the metrics to be saved\n",
    "  train_loss_NAG = np.zeros(epochs)\n",
    "  train_accuracy_NAG = np.zeros(epochs)\n",
    "  valid_loss_NAG = np.zeros(epochs)\n",
    "  valid_accuracy_NAG = np.zeros(epochs)\n",
    "  test_accuracy_NAG = np.zeros(epochs)\n",
    "  test_loss_NAG = np.zeros(epochs)\n",
    "\n",
    "  loss_function = nn.CrossEntropyLoss()\n",
    "  device = \"cuda:0\" \n",
    "\n",
    "  #Initilise validation set error as criteria at change point\n",
    "  error = 100\n",
    "  prev_error = 100\n",
    "\n",
    "  for epoch in range(epochs):\n",
    "      #Creates a deep copy of the parameter and gradient tensors and makes them shareable to enable re-use of Resnet modules multiple times\n",
    "      model = copy.deepcopy(model)\n",
    "      optimiser = optim.SGD(model.parameters(), lr = lr, momentum = momentum, nesterov = True, weight_decay=0.0005)\n",
    "      #Train the model on training data\n",
    "      trial = Trial(model, optimiser, loss_function, metrics=['loss', 'accuracy'],  verbose=0).to(device)\n",
    "      trial.with_generators(train_loader, valid_loader, test_generator=test_loader)\n",
    "\n",
    "      result = trial.run(epochs=1)\n",
    "\n",
    "      #At change points, update the hyperparameters depending on whether validation error reduced by more than 1% or not\n",
    "      if epoch%change == 0:\n",
    "        if ((prev_error-error)/prev_error < 0.01) and epoch!=0:\n",
    "\n",
    "          if lr/decay < 0.0000625:\n",
    "            lr = 0.0000625\n",
    "          else:\n",
    "              lr=lr/decay\n",
    "\n",
    "        else:\n",
    "            lr=lr\n",
    "        prev_error = error\n",
    "\n",
    "      #Compute the metrics on Test Dataset\n",
    "      trial.evaluate(data_key=torchbearer.TEST_DATA)\n",
    "\n",
    "      #Store the metrics at each epoch\n",
    "      train_loss_NAG[epoch] = result[0]['loss']\n",
    "      train_accuracy_NAG[epoch] = result[0]['acc']\n",
    "      valid_loss_NAG[epoch] = result[0]['val_loss']\n",
    "      valid_accuracy_NAG[epoch] = result[0]['val_acc']\n",
    "      test_accuracy_NAG[epoch] = result[0]['test_acc']\n",
    "      test_loss_NAG[epoch] = result[0]['test_loss']\n",
    "\n",
    "      error = 1 - result[0]['val_acc']\n",
    "\n",
    "      print(epoch, lr, momentum, result)\n",
    "\n",
    "  return lr, train_loss_NAG, train_accuracy_NAG, valid_loss_NAG, valid_accuracy_NAG, test_loss_NAG, test_accuracy_NAG\n"
   ]
  },
  {
   "cell_type": "code",
   "execution_count": null,
   "metadata": {
    "colab": {
     "base_uri": "https://localhost:8080/",
     "height": 384
    },
    "colab_type": "code",
    "id": "JvpY1fhnjgz-",
    "outputId": "565971a6-b03e-44e6-a942-4d12f9bbcfa7",
    "scrolled": true
   },
   "outputs": [
    {
     "name": "stdout",
     "output_type": "stream",
     "text": [
      "0 0.033 0.8 [{'running_loss': 1.5053421258926392, 'running_acc': 0.48749998211860657, 'loss': 1.693831205368042, 'acc': 0.37629997730255127, 'val_loss': 1.352144718170166, 'val_acc': 0.5105999708175659, 'train_steps': 5000, 'validation_steps': 1250, 'test_loss': 1.287845492362976, 'test_acc': 0.5288000106811523}]\n",
      "1 0.033 0.8 [{'running_loss': 1.0610105991363525, 'running_acc': 0.6399999856948853, 'loss': 1.262020468711853, 'acc': 0.5512750148773193, 'val_loss': 1.1215133666992188, 'val_acc': 0.614300012588501, 'train_steps': 5000, 'validation_steps': 1250, 'test_loss': 1.11811363697052, 'test_acc': 0.6245999932289124}]\n",
      "2 0.033 0.8 [{'running_loss': 0.9313132166862488, 'running_acc': 0.6899999976158142, 'loss': 1.0453234910964966, 'acc': 0.6373999714851379, 'val_loss': 0.985342264175415, 'val_acc': 0.6584999561309814, 'train_steps': 5000, 'validation_steps': 1250, 'test_loss': 0.951274573802948, 'test_acc': 0.6812999844551086}]\n",
      "3 0.0066 0.8 [{'running_loss': 1.0141831636428833, 'running_acc': 0.637499988079071, 'loss': 0.9365736842155457, 'acc': 0.6799499988555908, 'val_loss': 1.064806580543518, 'val_acc': 0.6327999830245972, 'train_steps': 5000, 'validation_steps': 1250, 'test_loss': 1.1333727836608887, 'test_acc': 0.6312999725341797}]\n",
      "4 0.0066 0.8 [{'running_loss': 0.6879603266716003, 'running_acc': 0.7799999713897705, 'loss': 0.6878403425216675, 'acc': 0.765500009059906, 'val_loss': 0.6209396123886108, 'val_acc': 0.7854999899864197, 'train_steps': 5000, 'validation_steps': 1250, 'test_loss': 0.5878090858459473, 'test_acc': 0.8003999590873718}]\n",
      "5 0.0066 0.8 [{'running_loss': 0.5802294015884399, 'running_acc': 0.7799999713897705, 'loss': 0.626519501209259, 'acc': 0.786424994468689, 'val_loss': 0.5911768674850464, 'val_acc': 0.7967000007629395, 'train_steps': 5000, 'validation_steps': 1250, 'test_loss': 0.5706145167350769, 'test_acc': 0.8065999746322632}]\n",
      "6 0.00132 0.8 [{'running_loss': 0.6080806851387024, 'running_acc': 0.7999999523162842, 'loss': 0.5961101651191711, 'acc': 0.7970749735832214, 'val_loss': 0.6344665288925171, 'val_acc': 0.7823999524116516, 'train_steps': 5000, 'validation_steps': 1250, 'test_loss': 0.6350817680358887, 'test_acc': 0.7838000059127808}]\n",
      "7 0.00132 0.8 [{'running_loss': 0.5283209681510925, 'running_acc': 0.8274999856948853, 'loss': 0.5017738938331604, 'acc': 0.8292749524116516, 'val_loss': 0.4863382577896118, 'val_acc': 0.8330999612808228, 'train_steps': 5000, 'validation_steps': 1250, 'test_loss': 0.4676971435546875, 'test_acc': 0.8416999578475952}]\n",
      "8 0.00132 0.8 [{'running_loss': 0.4238055646419525, 'running_acc': 0.8499999642372131, 'loss': 0.4695436954498291, 'acc': 0.8412249684333801, 'val_loss': 0.46767809987068176, 'val_acc': 0.8402000069618225, 'train_steps': 5000, 'validation_steps': 1250, 'test_loss': 0.45119187235832214, 'test_acc': 0.84579998254776}]\n",
      "9 0.000264 0.8 [{'running_loss': 0.4355732202529907, 'running_acc': 0.8650000095367432, 'loss': 0.4511769413948059, 'acc': 0.8477999567985535, 'val_loss': 0.47124573588371277, 'val_acc': 0.8382999897003174, 'train_steps': 5000, 'validation_steps': 1250, 'test_loss': 0.45412489771842957, 'test_acc': 0.8432999849319458}]\n",
      "10 0.000264 0.8 [{'running_loss': 0.3960235118865967, 'running_acc': 0.875, 'loss': 0.4182944595813751, 'acc': 0.8599500060081482, 'val_loss': 0.44559764862060547, 'val_acc': 0.8490999937057495, 'train_steps': 5000, 'validation_steps': 1250, 'test_loss': 0.4358661472797394, 'test_acc': 0.8485999703407288}]\n",
      "11 0.000264 0.8 [{'running_loss': 0.45424148440361023, 'running_acc': 0.8499999642372131, 'loss': 0.40941742062568665, 'acc': 0.8628499507904053, 'val_loss': 0.4429020881652832, 'val_acc': 0.8470999598503113, 'train_steps': 5000, 'validation_steps': 1250, 'test_loss': 0.42461928725242615, 'test_acc': 0.856499969959259}]\n",
      "12 5.28e-05 0.8 [{'running_loss': 0.5048640966415405, 'running_acc': 0.8399999737739563, 'loss': 0.40557658672332764, 'acc': 0.8623499870300293, 'val_loss': 0.43892478942871094, 'val_acc': 0.8495999574661255, 'train_steps': 5000, 'validation_steps': 1250, 'test_loss': 0.4185456335544586, 'test_acc': 0.8580999970436096}]\n",
      "13 5.28e-05 0.8 [{'running_loss': 0.43397098779678345, 'running_acc': 0.8549999594688416, 'loss': 0.39672577381134033, 'acc': 0.8660749793052673, 'val_loss': 0.44125041365623474, 'val_acc': 0.851099967956543, 'train_steps': 5000, 'validation_steps': 1250, 'test_loss': 0.4226655662059784, 'test_acc': 0.8563999533653259}]\n",
      "14 5.28e-05 0.8 [{'running_loss': 0.48571115732192993, 'running_acc': 0.8574999570846558, 'loss': 0.39462026953697205, 'acc': 0.8688749670982361, 'val_loss': 0.4337851107120514, 'val_acc': 0.8513999581336975, 'train_steps': 5000, 'validation_steps': 1250, 'test_loss': 0.4188351035118103, 'test_acc': 0.8574999570846558}]\n",
      "15 6.25e-05 0.8 [{'running_loss': 0.31893545389175415, 'running_acc': 0.8824999928474426, 'loss': 0.3940782845020294, 'acc': 0.8666249513626099, 'val_loss': 0.43694159388542175, 'val_acc': 0.8513999581336975, 'train_steps': 5000, 'validation_steps': 1250, 'test_loss': 0.4150027632713318, 'test_acc': 0.8579999804496765}]\n",
      "16 6.25e-05 0.8 [{'running_loss': 0.3732522130012512, 'running_acc': 0.875, 'loss': 0.39134669303894043, 'acc': 0.8682999610900879, 'val_loss': 0.43969324231147766, 'val_acc': 0.848800003528595, 'train_steps': 5000, 'validation_steps': 1250, 'test_loss': 0.41881194710731506, 'test_acc': 0.856499969959259}]\n",
      "17 6.25e-05 0.8 [{'running_loss': 0.37258219718933105, 'running_acc': 0.8650000095367432, 'loss': 0.39106979966163635, 'acc': 0.8683499693870544, 'val_loss': 0.43882235884666443, 'val_acc': 0.8531999588012695, 'train_steps': 5000, 'validation_steps': 1250, 'test_loss': 0.4184631109237671, 'test_acc': 0.858299970626831}]\n",
      "18 6.25e-05 0.8 [{'running_loss': 0.36484643816947937, 'running_acc': 0.8774999976158142, 'loss': 0.39169880747795105, 'acc': 0.8688249588012695, 'val_loss': 0.4376325011253357, 'val_acc': 0.8468999862670898, 'train_steps': 5000, 'validation_steps': 1250, 'test_loss': 0.41749683022499084, 'test_acc': 0.856499969959259}]\n",
      "19 6.25e-05 0.8 [{'running_loss': 0.37546488642692566, 'running_acc': 0.875, 'loss': 0.3853760063648224, 'acc': 0.8706499934196472, 'val_loss': 0.43438735604286194, 'val_acc': 0.8522999882698059, 'train_steps': 5000, 'validation_steps': 1250, 'test_loss': 0.4149397909641266, 'test_acc': 0.8561999797821045}]\n"
     ]
    }
   ],
   "source": [
    "final_lr_NAG, train_loss_NAG, train_accuracy_NAG, valid_loss_NAG, valid_accuracy_NAG, test_loss_NAG, test_accuracy_NAG = decayed_stats_NAG(0.033, 0.8, 5, 20, 3) "
   ]
  },
  {
   "cell_type": "markdown",
   "metadata": {
    "colab_type": "text",
    "id": "SotmUHTC81Sa"
   },
   "source": [
    "###Load Precomputed Metrics"
   ]
  },
  {
   "cell_type": "code",
   "execution_count": 36,
   "metadata": {
    "colab": {},
    "colab_type": "code",
    "id": "VRJBv1vX-QFQ"
   },
   "outputs": [],
   "source": [
    "# # Uncomment the below lines to restore the pre computed metrics for NAG on Batch Size 8 and Decayed Hyperparameter Schedule\n",
    "\n",
    "# final_lr_NAG = .0033\n",
    "# train_loss_NAG = np.array([1.71988809, 1.29914308, 1.07954776, 0.95561814, 0.89137459,\n",
    "#        0.85426939, 0.82173175, 0.79783243, 0.77668649, 0.76683259,\n",
    "#        0.75529331, 0.74070221, 0.73360246, 0.51124501, 0.45259282,\n",
    "#        0.42656377, 0.40407449, 0.39001095, 0.38238779, 0.37184608])\n",
    "# train_accuracy_NAG = np.array([0.35834998, 0.537925  , 0.62317497, 0.66729999, 0.691625  ,\n",
    "#        0.70699996, 0.71794999, 0.72767496, 0.73677498, 0.74077499,\n",
    "#        0.74245   , 0.74664998, 0.75169998, 0.82907498, 0.848575  ,\n",
    "#        0.85729998, 0.86429995, 0.86930001, 0.87077498, 0.87649995])\n",
    "# valid_loss_NAG = np.array([1.40929306, 1.09356678, 1.00825012, 1.06190968, 0.97852695,\n",
    "#        0.93381196, 0.8317579 , 0.86246735, 0.81682891, 0.83787596,\n",
    "#        0.88332832, 0.86016071, 0.9166652 , 0.46296313, 0.43751311,\n",
    "#        0.42873579, 0.42966861, 0.41955474, 0.41579834, 0.42130855])\n",
    "# valid_accuracy_NAG = np.array([0.4813    , 0.61739999, 0.65179998, 0.64429998, 0.67329997,\n",
    "#        0.67750001, 0.71069998, 0.69549996, 0.71819997, 0.72240001,\n",
    "#        0.69220001, 0.7015    , 0.68949997, 0.84389997, 0.85099995,\n",
    "#        0.8524    , 0.85469997, 0.85929996, 0.85619998, 0.85829997])\n",
    "# test_loss_NAG = np.array([1.37963986, 1.05978191, 0.95696777, 1.02892053, 0.87554801,\n",
    "#        0.95222896, 0.788822  , 0.81178492, 0.76654345, 0.81213814,\n",
    "#        0.89421445, 0.91007334, 0.93985689, 0.43652412, 0.41092786,\n",
    "#        0.40698892, 0.40439937, 0.40077454, 0.38929331, 0.40102407])\n",
    "# test_accuracy_NAG = np.array([0.4928    , 0.62279999, 0.67519999, 0.65380001, 0.71139997,\n",
    "#        0.67919999, 0.72459996, 0.71289998, 0.7414    , 0.73939997,\n",
    "#        0.699     , 0.6972    , 0.6893    , 0.8567    , 0.86210001,\n",
    "#        0.86359996, 0.86509997, 0.86499995, 0.86549997, 0.8664    ])\n"
   ]
  },
  {
   "cell_type": "code",
   "execution_count": 37,
   "metadata": {
    "colab": {
     "base_uri": "https://localhost:8080/",
     "height": 451
    },
    "colab_type": "code",
    "id": "ssh-MEa-hKVc",
    "outputId": "ff348ae6-317a-494c-da94-082b1724ed21",
    "scrolled": true
   },
   "outputs": [
    {
     "name": "stdout",
     "output_type": "stream",
     "text": [
      "Final Learning Rate reached at the end of training:  0.0033\n",
      "Training Loss Set:  array([1.71988809, 1.29914308, 1.07954776, 0.95561814, 0.89137459,\n",
      "       0.85426939, 0.82173175, 0.79783243, 0.77668649, 0.76683259,\n",
      "       0.75529331, 0.74070221, 0.73360246, 0.51124501, 0.45259282,\n",
      "       0.42656377, 0.40407449, 0.39001095, 0.38238779, 0.37184608])\n",
      "Training Accuracy Set:  array([0.35834998, 0.537925  , 0.62317497, 0.66729999, 0.691625  ,\n",
      "       0.70699996, 0.71794999, 0.72767496, 0.73677498, 0.74077499,\n",
      "       0.74245   , 0.74664998, 0.75169998, 0.82907498, 0.848575  ,\n",
      "       0.85729998, 0.86429995, 0.86930001, 0.87077498, 0.87649995])\n",
      "Validation Loss Set:  array([1.40929306, 1.09356678, 1.00825012, 1.06190968, 0.97852695,\n",
      "       0.93381196, 0.8317579 , 0.86246735, 0.81682891, 0.83787596,\n",
      "       0.88332832, 0.86016071, 0.9166652 , 0.46296313, 0.43751311,\n",
      "       0.42873579, 0.42966861, 0.41955474, 0.41579834, 0.42130855])\n",
      "Validation Accuracy Set:  array([0.4813    , 0.61739999, 0.65179998, 0.64429998, 0.67329997,\n",
      "       0.67750001, 0.71069998, 0.69549996, 0.71819997, 0.72240001,\n",
      "       0.69220001, 0.7015    , 0.68949997, 0.84389997, 0.85099995,\n",
      "       0.8524    , 0.85469997, 0.85929996, 0.85619998, 0.85829997])\n",
      "Test Loss Set:  array([1.37963986, 1.05978191, 0.95696777, 1.02892053, 0.87554801,\n",
      "       0.95222896, 0.788822  , 0.81178492, 0.76654345, 0.81213814,\n",
      "       0.89421445, 0.91007334, 0.93985689, 0.43652412, 0.41092786,\n",
      "       0.40698892, 0.40439937, 0.40077454, 0.38929331, 0.40102407])\n",
      "Test Accuracy Set:  array([0.4928    , 0.62279999, 0.67519999, 0.65380001, 0.71139997,\n",
      "       0.67919999, 0.72459996, 0.71289998, 0.7414    , 0.73939997,\n",
      "       0.699     , 0.6972    , 0.6893    , 0.8567    , 0.86210001,\n",
      "       0.86359996, 0.86509997, 0.86499995, 0.86549997, 0.8664    ])\n"
     ]
    }
   ],
   "source": [
    "print(\"Final Learning Rate reached at the end of training: \", final_lr_NAG)\n",
    "print(\"Training Loss Set: \",repr(train_loss_NAG))\n",
    "print(\"Training Accuracy Set: \",repr(train_accuracy_NAG))\n",
    "print(\"Validation Loss Set: \", repr(valid_loss_NAG))\n",
    "print(\"Validation Accuracy Set: \",repr(valid_accuracy_NAG))\n",
    "print(\"Test Loss Set: \", repr(test_loss_NAG))\n",
    "print(\"Test Accuracy Set: \",repr(test_accuracy_NAG))"
   ]
  },
  {
   "cell_type": "markdown",
   "metadata": {
    "colab_type": "text",
    "id": "0GhoLpcQhbfq"
   },
   "source": [
    "##ASGD"
   ]
  },
  {
   "cell_type": "code",
   "execution_count": 45,
   "metadata": {
    "colab": {},
    "colab_type": "code",
    "id": "eqU9LVUHJtdx"
   },
   "outputs": [],
   "source": [
    "def decayed_stats_ASGD(lr, decay, epochs, change, kappa=10000, xi=5):\n",
    "\n",
    "  #Load PreResnet44\n",
    "  model = Resnet(ResnetBlock, 44, num_classes)\n",
    "  model.eval()\n",
    "\n",
    "  #Initialise all the metrics to be saved\n",
    "  train_loss_ASGD = np.zeros(epochs)\n",
    "  train_accuracy_ASGD = np.zeros(epochs)\n",
    "  valid_loss_ASGD = np.zeros(epochs)\n",
    "  valid_accuracy_ASGD = np.zeros(epochs)\n",
    "  test_accuracy_ASGD = np.zeros(epochs)\n",
    "  test_loss_ASGD = np.zeros(epochs)\n",
    "\n",
    "  loss_function = nn.CrossEntropyLoss()\n",
    "  device = \"cuda:0\" \n",
    "\n",
    "  #Initilise validation set error as criteria at change point\n",
    "  error = 100\n",
    "  prev_error = 100\n",
    "\n",
    "  for epoch in range(epochs):\n",
    "\n",
    "    #Creates a deep copy of the parameter and gradient tensors and makes them shareable to enable re-use of Resnet modules multiple times\n",
    "    model = copy.deepcopy(model)\n",
    "    optimiser = AccSGD(model.parameters(),  lr = lr, kappa=kappa, xi=xi,weight_decay=0.0005)\n",
    "    #Train the model on training data\n",
    "    trial = Trial(model, optimiser, loss_function, metrics=['loss', 'accuracy'], verbose=0).to(device)\n",
    "    trial.with_generators(train_loader, valid_loader, test_generator=test_loader)\n",
    "\n",
    "    result = trial.run(epochs=1)\n",
    "\n",
    "    #At change points, update the hyperparameters depending on whether validation error reduced by more than 1% or not\n",
    "    if epoch%change == 0:\n",
    "      if ((prev_error-error)/prev_error < 0.01) and epoch!=0:\n",
    "        \n",
    "        if lr/decay < 0.0000625:\n",
    "         lr = 0.0000625\n",
    "        else:\n",
    "            lr=lr/decay\n",
    "\n",
    "      else:\n",
    "          lr=lr\n",
    "\n",
    "      prev_error = error\n",
    "\n",
    "    #Compute the metrics on Test Dataset\n",
    "    test_metric = trial.evaluate(data_key=torchbearer.TEST_DATA)\n",
    "\n",
    "    #Store the metrics at each epoch\n",
    "    train_loss_ASGD[epoch] = result[0]['loss']\n",
    "    train_accuracy_ASGD[epoch] = result[0]['acc']\n",
    "    valid_loss_ASGD[epoch] = result[0]['val_loss']\n",
    "    valid_accuracy_ASGD[epoch] = result[0]['val_acc']\n",
    "    test_accuracy_ASGD[epoch] = test_metric['test_acc']\n",
    "    test_loss_ASGD[epoch] = test_metric['test_loss']\n",
    "\n",
    "    error = 1 - result[0]['val_acc']\n",
    "\n",
    "    print(epoch, lr, result)\n",
    "\n",
    "  return lr, train_loss_ASGD, train_accuracy_ASGD, valid_loss_ASGD, valid_accuracy_ASGD, test_accuracy_ASGD, test_loss_ASGD"
   ]
  },
  {
   "cell_type": "code",
   "execution_count": 46,
   "metadata": {
    "colab": {
     "base_uri": "https://localhost:8080/",
     "height": 384
    },
    "colab_type": "code",
    "id": "7AAFxe5Lh4aW",
    "outputId": "2dd811f9-c475-4e4a-8ef0-23a17a07012c"
   },
   "outputs": [
    {
     "name": "stdout",
     "output_type": "stream",
     "text": [
      "0 0.033 [{'running_loss': 1.3096946477890015, 'running_acc': 0.5324999690055847, 'loss': 1.625281572341919, 'acc': 0.40059998631477356, 'val_loss': 1.263443946838379, 'val_acc': 0.5396999716758728, 'train_steps': 5000, 'validation_steps': 1250, 'test_loss': 1.2329131364822388, 'test_acc': 0.5476999878883362}]\n",
      "1 0.033 [{'running_loss': 0.9788863658905029, 'running_acc': 0.6875, 'loss': 1.161270022392273, 'acc': 0.5908499956130981, 'val_loss': 1.0035169124603271, 'val_acc': 0.6459000110626221, 'train_steps': 5000, 'validation_steps': 1250, 'test_loss': 0.978852391242981, 'test_acc': 0.6610999703407288}]\n",
      "2 0.033 [{'running_loss': 0.9151138067245483, 'running_acc': 0.6899999976158142, 'loss': 0.9526777863502502, 'acc': 0.6712499856948853, 'val_loss': 0.9127427339553833, 'val_acc': 0.6812999844551086, 'train_steps': 5000, 'validation_steps': 1250, 'test_loss': 0.8609089851379395, 'test_acc': 0.7046999931335449}]\n",
      "3 0.033 [{'running_loss': 0.8199616074562073, 'running_acc': 0.7299999594688416, 'loss': 0.8507122993469238, 'acc': 0.7079749703407288, 'val_loss': 0.7763893008232117, 'val_acc': 0.7329999804496765, 'train_steps': 5000, 'validation_steps': 1250, 'test_loss': 0.73516845703125, 'test_acc': 0.746999979019165}]\n",
      "4 0.033 [{'running_loss': 0.7293688654899597, 'running_acc': 0.7324999570846558, 'loss': 0.7995781302452087, 'acc': 0.7269499897956848, 'val_loss': 0.7522270083427429, 'val_acc': 0.7462999820709229, 'train_steps': 5000, 'validation_steps': 1250, 'test_loss': 0.7401838302612305, 'test_acc': 0.7518999576568604}]\n",
      "5 0.033 [{'running_loss': 0.7687893509864807, 'running_acc': 0.7299999594688416, 'loss': 0.7704816460609436, 'acc': 0.7371999621391296, 'val_loss': 0.7259316444396973, 'val_acc': 0.7473999857902527, 'train_steps': 5000, 'validation_steps': 1250, 'test_loss': 0.6934905648231506, 'test_acc': 0.7694000005722046}]\n",
      "6 0.033 [{'running_loss': 0.680671215057373, 'running_acc': 0.7874999642372131, 'loss': 0.7379492521286011, 'acc': 0.7495749592781067, 'val_loss': 0.7166361212730408, 'val_acc': 0.7511000037193298, 'train_steps': 5000, 'validation_steps': 1250, 'test_loss': 0.6848788857460022, 'test_acc': 0.7592999935150146}]\n",
      "7 0.033 [{'running_loss': 0.6654295921325684, 'running_acc': 0.7774999737739563, 'loss': 0.7228142023086548, 'acc': 0.7543500065803528, 'val_loss': 0.7173129320144653, 'val_acc': 0.7554000020027161, 'train_steps': 5000, 'validation_steps': 1250, 'test_loss': 0.691618025302887, 'test_acc': 0.7691999673843384}]\n",
      "8 0.033 [{'running_loss': 0.7620915174484253, 'running_acc': 0.7450000047683716, 'loss': 0.7119889259338379, 'acc': 0.7580249905586243, 'val_loss': 0.7186333537101746, 'val_acc': 0.7646999955177307, 'train_steps': 5000, 'validation_steps': 1250, 'test_loss': 0.7071709632873535, 'test_acc': 0.7622999548912048}]\n",
      "9 0.033 [{'running_loss': 0.7366545796394348, 'running_acc': 0.7475000023841858, 'loss': 0.6997900009155273, 'acc': 0.7630499601364136, 'val_loss': 0.6983337998390198, 'val_acc': 0.7635999917984009, 'train_steps': 5000, 'validation_steps': 1250, 'test_loss': 0.6816012859344482, 'test_acc': 0.7712999582290649}]\n",
      "10 0.033 [{'running_loss': 0.6801907420158386, 'running_acc': 0.7699999809265137, 'loss': 0.6950130462646484, 'acc': 0.7639249563217163, 'val_loss': 0.6916831731796265, 'val_acc': 0.7664999961853027, 'train_steps': 5000, 'validation_steps': 1250, 'test_loss': 0.6510365605354309, 'test_acc': 0.7792999744415283}]\n",
      "11 0.033 [{'running_loss': 0.6092468500137329, 'running_acc': 0.79749995470047, 'loss': 0.6856903433799744, 'acc': 0.7680249810218811, 'val_loss': 0.6430143713951111, 'val_acc': 0.7756999731063843, 'train_steps': 5000, 'validation_steps': 1250, 'test_loss': 0.6268691420555115, 'test_acc': 0.7870000004768372}]\n",
      "12 0.033 [{'running_loss': 0.6812491416931152, 'running_acc': 0.7599999904632568, 'loss': 0.6772968173027039, 'acc': 0.7704499959945679, 'val_loss': 0.6655315160751343, 'val_acc': 0.7739999890327454, 'train_steps': 5000, 'validation_steps': 1250, 'test_loss': 0.6017548441886902, 'test_acc': 0.7979999780654907}]\n",
      "13 0.033 [{'running_loss': 0.6404645442962646, 'running_acc': 0.7699999809265137, 'loss': 0.6671748161315918, 'acc': 0.772849977016449, 'val_loss': 0.6305606365203857, 'val_acc': 0.784500002861023, 'train_steps': 5000, 'validation_steps': 1250, 'test_loss': 0.6088020205497742, 'test_acc': 0.7906000018119812}]\n",
      "14 0.033 [{'running_loss': 0.6515887379646301, 'running_acc': 0.7824999690055847, 'loss': 0.6654136776924133, 'acc': 0.7751249670982361, 'val_loss': 0.6501086354255676, 'val_acc': 0.7745999693870544, 'train_steps': 5000, 'validation_steps': 1250, 'test_loss': 0.6056838035583496, 'test_acc': 0.795199990272522}]\n",
      "15 0.0066 [{'running_loss': 0.7353454232215881, 'running_acc': 0.7649999856948853, 'loss': 0.6642053723335266, 'acc': 0.7744249701499939, 'val_loss': 0.6458218693733215, 'val_acc': 0.7756999731063843, 'train_steps': 5000, 'validation_steps': 1250, 'test_loss': 0.6259858012199402, 'test_acc': 0.7856999635696411}]\n",
      "16 0.0066 [{'running_loss': 0.48185256123542786, 'running_acc': 0.8299999833106995, 'loss': 0.47756823897361755, 'acc': 0.8414250016212463, 'val_loss': 0.4408901631832123, 'val_acc': 0.8515999913215637, 'train_steps': 5000, 'validation_steps': 1250, 'test_loss': 0.41695746779441833, 'test_acc': 0.8604999780654907}]\n",
      "17 0.0066 [{'running_loss': 0.3657609522342682, 'running_acc': 0.8849999904632568, 'loss': 0.43071502447128296, 'acc': 0.8532249927520752, 'val_loss': 0.4428817629814148, 'val_acc': 0.8501999974250793, 'train_steps': 5000, 'validation_steps': 1250, 'test_loss': 0.41835907101631165, 'test_acc': 0.8590999841690063}]\n",
      "18 0.0066 [{'running_loss': 0.38649386167526245, 'running_acc': 0.8725000023841858, 'loss': 0.41477277874946594, 'acc': 0.85999995470047, 'val_loss': 0.41986966133117676, 'val_acc': 0.857699990272522, 'train_steps': 5000, 'validation_steps': 1250, 'test_loss': 0.40065252780914307, 'test_acc': 0.8641999959945679}]\n",
      "19 0.0066 [{'running_loss': 0.40798258781433105, 'running_acc': 0.8700000047683716, 'loss': 0.4026280343532562, 'acc': 0.8633999824523926, 'val_loss': 0.4355422854423523, 'val_acc': 0.8514999747276306, 'train_steps': 5000, 'validation_steps': 1250, 'test_loss': 0.40897610783576965, 'test_acc': 0.8628000020980835}]\n"
     ]
    }
   ],
   "source": [
    " final_lr_ASGD, train_loss_ASGD, train_accuracy_ASGD, valid_loss_ASGD, valid_accuracy_ASGD, test_accuracy_ASGD, test_loss_ASGD = decayed_stats_ASGD(0.01, 5, 20, 3, kappa=1000, xi=5)\n"
   ]
  },
  {
   "cell_type": "markdown",
   "metadata": {
    "colab_type": "text",
    "id": "uncoaCsY9_G3"
   },
   "source": [
    "###Load Precomputed Metrics"
   ]
  },
  {
   "cell_type": "code",
   "execution_count": 39,
   "metadata": {
    "colab": {},
    "colab_type": "code",
    "id": "mG43iv1T90an"
   },
   "outputs": [],
   "source": [
    "# # Uncomment the below lines to restore the pre computed metrics for ASGD on Batch Size 8 and Decayed Hyperparameter Schedule\n",
    "\n",
    "# final_lr_ASGD = 0.002\n",
    "# train_loss_ASGD = np.array([1.58919132, 1.17473221, 0.96296453, 0.84262353, 0.76260924,\n",
    "#        0.69223106, 0.64281523, 0.61255813, 0.57564855, 0.54999876,\n",
    "#        0.53011119, 0.51083893, 0.4969238 , 0.4824703 , 0.46589959,\n",
    "#        0.4574061 , 0.34007481, 0.30609426, 0.2900002 , 0.28160962])\n",
    "# train_accuracy_ASGD = np.array([0.41927499, 0.58739996, 0.66877496, 0.712825  , 0.74147499,\n",
    "#        0.76572496, 0.78424996, 0.79464996, 0.80664998, 0.81462497,\n",
    "#        0.82379997, 0.82862496, 0.83437496, 0.83717495, 0.84377497,\n",
    "#        0.8466    , 0.88617498, 0.8973    , 0.90274996, 0.90702498])\n",
    "# valid_loss_ASGD = np.array([1.22578263, 1.01553273, 0.83578181, 0.75604945, 0.75199747,\n",
    "#        0.65062433, 0.60330665, 0.57056803, 0.59517789, 0.563384  ,\n",
    "#        0.55008548, 0.51637214, 0.49108344, 0.51067078, 0.52569926,\n",
    "#        0.50501519, 0.38354635, 0.3668088 , 0.37753755, 0.36981937])\n",
    "# valid_accuracy_ASGD = np.array([0.56059998, 0.64340001, 0.70419997, 0.7367    , 0.73879999,\n",
    "#        0.78029996, 0.79269999, 0.80669999, 0.79829997, 0.81369996,\n",
    "#        0.8125    , 0.82789999, 0.83709997, 0.82739997, 0.82019997,\n",
    "#        0.82549995, 0.87129998, 0.87360001, 0.87259996, 0.87409997])\n",
    "# test_loss_ASGD = np.array([1.17463982, 1.01082015, 0.79810256, 0.76910925, 0.72456241,\n",
    "#        0.61660045, 0.58448511, 0.55800223, 0.59107107, 0.51671088,\n",
    "#        0.52455586, 0.48659828, 0.46810967, 0.48155048, 0.53297049,\n",
    "#        0.50216442, 0.37553626, 0.3569853 , 0.360899  , 0.35293877])\n",
    "# test_accuracy_ASGD = np.array([0.57599998, 0.65380001, 0.71810001, 0.7353    , 0.74899995,\n",
    "#        0.79799998, 0.79969996, 0.81209999, 0.80769998, 0.82709998,\n",
    "#        0.82189995, 0.83289999, 0.84529996, 0.84219998, 0.82849997,\n",
    "#        0.83559996, 0.87729996, 0.88099998, 0.87949997, 0.88049996])"
   ]
  },
  {
   "cell_type": "code",
   "execution_count": 40,
   "metadata": {
    "colab": {
     "base_uri": "https://localhost:8080/",
     "height": 451
    },
    "colab_type": "code",
    "id": "UgltGySmKIdG",
    "outputId": "0127f035-002c-4693-efd6-f29d3e5db618"
   },
   "outputs": [
    {
     "name": "stdout",
     "output_type": "stream",
     "text": [
      "Final Learning Rate reached at the end of training:  0.002\n",
      "Training Loss Set:  array([1.58919132, 1.17473221, 0.96296453, 0.84262353, 0.76260924,\n",
      "       0.69223106, 0.64281523, 0.61255813, 0.57564855, 0.54999876,\n",
      "       0.53011119, 0.51083893, 0.4969238 , 0.4824703 , 0.46589959,\n",
      "       0.4574061 , 0.34007481, 0.30609426, 0.2900002 , 0.28160962])\n",
      "Training Accuracy Set:  array([0.41927499, 0.58739996, 0.66877496, 0.712825  , 0.74147499,\n",
      "       0.76572496, 0.78424996, 0.79464996, 0.80664998, 0.81462497,\n",
      "       0.82379997, 0.82862496, 0.83437496, 0.83717495, 0.84377497,\n",
      "       0.8466    , 0.88617498, 0.8973    , 0.90274996, 0.90702498])\n",
      "Validation Loss Set:  array([1.22578263, 1.01553273, 0.83578181, 0.75604945, 0.75199747,\n",
      "       0.65062433, 0.60330665, 0.57056803, 0.59517789, 0.563384  ,\n",
      "       0.55008548, 0.51637214, 0.49108344, 0.51067078, 0.52569926,\n",
      "       0.50501519, 0.38354635, 0.3668088 , 0.37753755, 0.36981937])\n",
      "Validation Accuracy Set:  array([0.56059998, 0.64340001, 0.70419997, 0.7367    , 0.73879999,\n",
      "       0.78029996, 0.79269999, 0.80669999, 0.79829997, 0.81369996,\n",
      "       0.8125    , 0.82789999, 0.83709997, 0.82739997, 0.82019997,\n",
      "       0.82549995, 0.87129998, 0.87360001, 0.87259996, 0.87409997])\n",
      "Test Loss Set:  array([1.17463982, 1.01082015, 0.79810256, 0.76910925, 0.72456241,\n",
      "       0.61660045, 0.58448511, 0.55800223, 0.59107107, 0.51671088,\n",
      "       0.52455586, 0.48659828, 0.46810967, 0.48155048, 0.53297049,\n",
      "       0.50216442, 0.37553626, 0.3569853 , 0.360899  , 0.35293877])\n",
      "Test Accuracy Set:  array([0.57599998, 0.65380001, 0.71810001, 0.7353    , 0.74899995,\n",
      "       0.79799998, 0.79969996, 0.81209999, 0.80769998, 0.82709998,\n",
      "       0.82189995, 0.83289999, 0.84529996, 0.84219998, 0.82849997,\n",
      "       0.83559996, 0.87729996, 0.88099998, 0.87949997, 0.88049996])\n"
     ]
    }
   ],
   "source": [
    "print(\"Final Learning Rate reached at the end of training: \", final_lr_ASGD)\n",
    "print(\"Training Loss Set: \", repr(train_loss_ASGD))\n",
    "print(\"Training Accuracy Set: \",repr(train_accuracy_ASGD))\n",
    "print(\"Validation Loss Set: \",repr(valid_loss_ASGD))\n",
    "print(\"Validation Accuracy Set: \",repr(valid_accuracy_ASGD))\n",
    "print(\"Test Loss Set: \",repr(test_loss_ASGD))\n",
    "print(\"Test Accuracy Set: \",repr(test_accuracy_ASGD))\n"
   ]
  },
  {
   "cell_type": "markdown",
   "metadata": {
    "colab_type": "text",
    "id": "rdZ2g_gVLW_J"
   },
   "source": [
    "##Adam"
   ]
  },
  {
   "cell_type": "code",
   "execution_count": 55,
   "metadata": {
    "colab": {},
    "colab_type": "code",
    "id": "UjsvRwAHl6pA"
   },
   "outputs": [],
   "source": [
    "def decayed_stats_Adam(lr, decay, epochs, change):\n",
    "      \n",
    "  #Load PreResnet44\n",
    "  model = Resnet(ResnetBlock, 44, num_classes)\n",
    "  model.eval()\n",
    "\n",
    "  #Initialise all the metrics to be saved\n",
    "  train_loss_Adam = np.zeros(epochs)\n",
    "  train_accuracy_Adam = np.zeros(epochs)\n",
    "  valid_loss_Adam = np.zeros(epochs)\n",
    "  valid_accuracy_Adam = np.zeros(epochs)\n",
    "  test_accuracy_Adam = np.zeros(epochs)\n",
    "  test_loss_Adam = np.zeros(epochs)\n",
    "\n",
    "  loss_function = nn.CrossEntropyLoss()\n",
    "  device = \"cuda:0\" \n",
    "\n",
    "  #Initilise validation set error as criteria at change point\n",
    "  error = 100\n",
    "  prev_error = 100\n",
    "\n",
    "  for epoch in range(epochs):\n",
    "\n",
    "    #Creates a deep copy of the parameter and gradient tensors and makes them shareable to enable re-use of Resnet modules multiple times\n",
    "    model = copy.deepcopy(model)\n",
    "    optimiser = optim.Adam(model.parameters(),  lr = lr, weight_decay=0.0005)\n",
    "    #Train the model on training data\n",
    "    trial = Trial(model, optimiser, loss_function, metrics=['loss', 'accuracy'], verbose=0).to(device)\n",
    "    trial.with_generators(train_loader, valid_loader, test_generator=test_loader)\n",
    "\n",
    "    result = trial.run(epochs=1)\n",
    "\n",
    "    #At change points, update the hyperparameters depending on whether validation error reduced by more than 1% or not\n",
    "    if epoch%change == 0:\n",
    "      if ((prev_error-error)/prev_error < 0.01) and epoch!=0:\n",
    "        \n",
    "        if lr/decay < 0.0000625:\n",
    "         lr = 0.0000625\n",
    "        else:\n",
    "            lr=lr/decay\n",
    "\n",
    "      else:\n",
    "          lr=lr\n",
    "\n",
    "      prev_error = error\n",
    "\n",
    "    test_metric = trial.evaluate(data_key=torchbearer.TEST_DATA)\n",
    "\n",
    "    #Store the metrics at each epoch\n",
    "    train_loss_Adam[epoch] = result[0]['loss']\n",
    "    train_accuracy_Adam[epoch] = result[0]['acc']\n",
    "    valid_loss_Adam[epoch] = result[0]['val_loss']\n",
    "    valid_accuracy_Adam[epoch] = result[0]['val_acc']\n",
    "    test_accuracy_Adam[epoch] = test_metric['test_acc']\n",
    "    test_loss_Adam[epoch] = test_metric['test_loss']\n",
    "\n",
    "    error = 1 - result[0]['val_acc']\n",
    "\n",
    "    print(epoch, lr, result)\n",
    "\n",
    "  return lr, train_loss_Adam, train_accuracy_Adam, valid_loss_Adam, valid_accuracy_Adam, test_accuracy_Adam, test_loss_Adam"
   ]
  },
  {
   "cell_type": "code",
   "execution_count": null,
   "metadata": {
    "colab": {
     "base_uri": "https://localhost:8080/",
     "height": 263
    },
    "colab_type": "code",
    "id": "5UMxAeH2l_Ki",
    "outputId": "f3a70606-e4b0-4a05-e2f2-3780104025e4"
   },
   "outputs": [
    {
     "name": "stdout",
     "output_type": "stream",
     "text": [
      "0 0.001 [{'running_loss': 1.7021256685256958, 'running_acc': 0.35749998688697815, 'loss': 1.8114932775497437, 'acc': 0.3201499879360199, 'val_loss': 1.5653077363967896, 'val_acc': 0.42179998755455017, 'train_steps': 5000, 'validation_steps': 1250, 'test_loss': 1.4803475141525269, 'test_acc': 0.4493999779224396}]\n",
      "1 0.001 [{'running_loss': 1.2808071374893188, 'running_acc': 0.5525000095367432, 'loss': 1.4322797060012817, 'acc': 0.48399999737739563, 'val_loss': 1.229349970817566, 'val_acc': 0.5586000084877014, 'train_steps': 5000, 'validation_steps': 1250, 'test_loss': 1.1722451448440552, 'test_acc': 0.5762999653816223}]\n",
      "2 0.001 [{'running_loss': 1.0736936330795288, 'running_acc': 0.6150000095367432, 'loss': 1.181382656097412, 'acc': 0.5825999975204468, 'val_loss': 1.0542497634887695, 'val_acc': 0.617900013923645, 'train_steps': 5000, 'validation_steps': 1250, 'test_loss': 1.0361838340759277, 'test_acc': 0.6251999735832214}]\n",
      "3 0.001 [{'running_loss': 0.9790947437286377, 'running_acc': 0.6599999666213989, 'loss': 1.0303022861480713, 'acc': 0.6422500014305115, 'val_loss': 0.9919582605361938, 'val_acc': 0.651699960231781, 'train_steps': 5000, 'validation_steps': 1250, 'test_loss': 0.9519069790840149, 'test_acc': 0.6692000031471252}]\n",
      "4 0.001 [{'running_loss': 0.834884762763977, 'running_acc': 0.7224999666213989, 'loss': 0.9344883561134338, 'acc': 0.6814000010490417, 'val_loss': 0.814061164855957, 'val_acc': 0.7166000008583069, 'train_steps': 5000, 'validation_steps': 1250, 'test_loss': 0.7861266732215881, 'test_acc': 0.7307999730110168}]\n",
      "5 0.001 [{'running_loss': 0.9010010957717896, 'running_acc': 0.6924999952316284, 'loss': 0.8788094520568848, 'acc': 0.6969999670982361, 'val_loss': 0.8196729421615601, 'val_acc': 0.7179999947547913, 'train_steps': 5000, 'validation_steps': 1250, 'test_loss': 0.8053967952728271, 'test_acc': 0.7267000079154968}]\n",
      "6 0.001 [{'running_loss': 0.921909511089325, 'running_acc': 0.6825000047683716, 'loss': 0.8439926505088806, 'acc': 0.7094999551773071, 'val_loss': 0.801859974861145, 'val_acc': 0.7181000113487244, 'train_steps': 5000, 'validation_steps': 1250, 'test_loss': 0.7857220768928528, 'test_acc': 0.7307999730110168}]\n",
      "7 0.001 [{'running_loss': 0.8836683630943298, 'running_acc': 0.7074999809265137, 'loss': 0.8101425170898438, 'acc': 0.722599983215332, 'val_loss': 0.7551889419555664, 'val_acc': 0.7416999936103821, 'train_steps': 5000, 'validation_steps': 1250, 'test_loss': 0.7142928838729858, 'test_acc': 0.7576000094413757}]\n",
      "8 0.001 [{'running_loss': 0.7671545743942261, 'running_acc': 0.7400000095367432, 'loss': 0.7812084555625916, 'acc': 0.736549973487854, 'val_loss': 0.7323122620582581, 'val_acc': 0.7493000030517578, 'train_steps': 5000, 'validation_steps': 1250, 'test_loss': 0.7021455764770508, 'test_acc': 0.7572999596595764}]\n",
      "9 0.001 [{'running_loss': 0.7601556777954102, 'running_acc': 0.7450000047683716, 'loss': 0.7757601737976074, 'acc': 0.7381500005722046, 'val_loss': 0.7355943918228149, 'val_acc': 0.7559999823570251, 'train_steps': 5000, 'validation_steps': 1250, 'test_loss': 0.7226572036743164, 'test_acc': 0.7603999972343445}]\n",
      "10 0.001 [{'running_loss': 0.7875534892082214, 'running_acc': 0.7324999570846558, 'loss': 0.7606104016304016, 'acc': 0.7407249808311462, 'val_loss': 0.7081246972084045, 'val_acc': 0.7626000046730042, 'train_steps': 5000, 'validation_steps': 1250, 'test_loss': 0.6854858994483948, 'test_acc': 0.7700999975204468}]\n",
      "11 0.001 [{'running_loss': 0.6866185069084167, 'running_acc': 0.7674999833106995, 'loss': 0.7443297505378723, 'acc': 0.7462249994277954, 'val_loss': 0.679173469543457, 'val_acc': 0.7634999752044678, 'train_steps': 5000, 'validation_steps': 1250, 'test_loss': 0.6640117764472961, 'test_acc': 0.7754999995231628}]\n",
      "12 0.001 [{'running_loss': 0.7940533757209778, 'running_acc': 0.7274999618530273, 'loss': 0.7348586320877075, 'acc': 0.7516999840736389, 'val_loss': 0.7071316838264465, 'val_acc': 0.7601999640464783, 'train_steps': 5000, 'validation_steps': 1250, 'test_loss': 0.6806899309158325, 'test_acc': 0.7754999995231628}]\n"
     ]
    }
   ],
   "source": [
    " final_lr_Adam, train_loss_Adam, train_accuracy_Adam, valid_loss_Adam, valid_accuracy_Adam, test_accuracy_Adam, test_loss_Adam = decayed_stats_Adam(0.001, 10, 20, 3)"
   ]
  },
  {
   "cell_type": "markdown",
   "metadata": {
    "colab_type": "text",
    "id": "4ABqcy_pMVkK"
   },
   "source": [
    "###Load Precomputed Metrics"
   ]
  },
  {
   "cell_type": "code",
   "execution_count": 41,
   "metadata": {
    "colab": {},
    "colab_type": "code",
    "id": "LAmD0oML-CTB"
   },
   "outputs": [],
   "source": [
    "# # Uncomment the below lines to restore the pre computed metrics for Adam on Batch Size 8 and Decayed Hyperparameter Schedule\n",
    "\n",
    "# final_lr_Adam = 6.25e-05\n",
    "# train_loss_Adam = np.array([1.82052827, 1.4499712 , 1.24283719, 1.10869968, 1.01592672,\n",
    "#        0.93206149, 0.88295323, 0.83725876, 0.80472004, 0.78270024,\n",
    "#        0.77774221, 0.75486284, 0.73781234, 0.6067698 , 0.56517899,\n",
    "#        0.54753089, 0.53797686, 0.53021741, 0.52135974, 0.48152083])\n",
    "# train_accuracy_Adam = np.array([0.31577498, 0.47744998, 0.56059998, 0.61079997, 0.64542496,\n",
    "#        0.67764997, 0.69507498, 0.71597499, 0.72674996, 0.73379999,\n",
    "#        0.73502499, 0.74217498, 0.75432497, 0.79522496, 0.81169999,\n",
    "#        0.81742495, 0.81909996, 0.82042497, 0.824     , 0.83969998])\n",
    "# valid_loss_Adam = np.array([1.53175294, 1.31268334, 1.15991521, 0.96513486, 0.86808366,\n",
    "#        0.92742032, 0.78041536, 0.86087567, 0.72564769, 0.72201002,\n",
    "#        0.87109911, 0.76123583, 0.72165751, 0.53766489, 0.53640848,\n",
    "#        0.50912201, 0.50892013, 0.51304412, 0.49902821, 0.46797127])\n",
    "# valid_accuracy_Adam = np.array([0.43699998, 0.52859998, 0.58239996, 0.6602    , 0.69870001,\n",
    "#        0.67369998, 0.73609996, 0.69949996, 0.75400001, 0.75349998,\n",
    "#        0.704     , 0.7421    , 0.75419998, 0.81869996, 0.8211    ,\n",
    "#        0.82969999, 0.82749999, 0.82159996, 0.83139998, 0.84289998])\n",
    "# test_loss_Adam = np.array([1.48973691, 1.21305323, 1.15768313, 0.92161822, 0.84630787,\n",
    "#        0.94687754, 0.75437087, 0.84950215, 0.70269239, 0.69248849,\n",
    "#        0.87529522, 0.74152589, 0.73194474, 0.52255052, 0.50944835,\n",
    "#        0.4785229 , 0.47436488, 0.49250615, 0.46887699, 0.44359872])\n",
    "# test_accuracy_Adam = np.array([0.44299999, 0.55809999, 0.58789998, 0.67399997, 0.70469999,\n",
    "#        0.67249995, 0.7403    , 0.71169996, 0.76249999, 0.76559997,\n",
    "#        0.70899999, 0.75059998, 0.7554    , 0.82069999, 0.8276    ,\n",
    "#        0.83849996, 0.83999997, 0.83109999, 0.84209996, 0.84929997])"
   ]
  },
  {
   "cell_type": "code",
   "execution_count": 42,
   "metadata": {
    "colab": {
     "base_uri": "https://localhost:8080/",
     "height": 451
    },
    "colab_type": "code",
    "id": "XhVeumDiemoJ",
    "outputId": "fe6143d7-f5e0-4d0a-e314-d1819961ff28"
   },
   "outputs": [
    {
     "name": "stdout",
     "output_type": "stream",
     "text": [
      "Final Learning Rate reached at the end of training:  6.25e-05\n",
      "Training Loss Set:  array([1.82052827, 1.4499712 , 1.24283719, 1.10869968, 1.01592672,\n",
      "       0.93206149, 0.88295323, 0.83725876, 0.80472004, 0.78270024,\n",
      "       0.77774221, 0.75486284, 0.73781234, 0.6067698 , 0.56517899,\n",
      "       0.54753089, 0.53797686, 0.53021741, 0.52135974, 0.48152083])\n",
      "Training Accuracy Set:  array([0.31577498, 0.47744998, 0.56059998, 0.61079997, 0.64542496,\n",
      "       0.67764997, 0.69507498, 0.71597499, 0.72674996, 0.73379999,\n",
      "       0.73502499, 0.74217498, 0.75432497, 0.79522496, 0.81169999,\n",
      "       0.81742495, 0.81909996, 0.82042497, 0.824     , 0.83969998])\n",
      "Validation Loss Set:  array([1.53175294, 1.31268334, 1.15991521, 0.96513486, 0.86808366,\n",
      "       0.92742032, 0.78041536, 0.86087567, 0.72564769, 0.72201002,\n",
      "       0.87109911, 0.76123583, 0.72165751, 0.53766489, 0.53640848,\n",
      "       0.50912201, 0.50892013, 0.51304412, 0.49902821, 0.46797127])\n",
      "Validation Accuracy Set:  array([0.43699998, 0.52859998, 0.58239996, 0.6602    , 0.69870001,\n",
      "       0.67369998, 0.73609996, 0.69949996, 0.75400001, 0.75349998,\n",
      "       0.704     , 0.7421    , 0.75419998, 0.81869996, 0.8211    ,\n",
      "       0.82969999, 0.82749999, 0.82159996, 0.83139998, 0.84289998])\n",
      "Test Loss Set:  array([1.48973691, 1.21305323, 1.15768313, 0.92161822, 0.84630787,\n",
      "       0.94687754, 0.75437087, 0.84950215, 0.70269239, 0.69248849,\n",
      "       0.87529522, 0.74152589, 0.73194474, 0.52255052, 0.50944835,\n",
      "       0.4785229 , 0.47436488, 0.49250615, 0.46887699, 0.44359872])\n",
      "Test Accuracy Set:  array([0.44299999, 0.55809999, 0.58789998, 0.67399997, 0.70469999,\n",
      "       0.67249995, 0.7403    , 0.71169996, 0.76249999, 0.76559997,\n",
      "       0.70899999, 0.75059998, 0.7554    , 0.82069999, 0.8276    ,\n",
      "       0.83849996, 0.83999997, 0.83109999, 0.84209996, 0.84929997])\n"
     ]
    }
   ],
   "source": [
    "print(\"Final Learning Rate reached at the end of training: \", final_lr_Adam)\n",
    "print(\"Training Loss Set: \", repr(train_loss_Adam))\n",
    "print(\"Training Accuracy Set: \",repr(train_accuracy_Adam))\n",
    "print(\"Validation Loss Set: \", repr(valid_loss_Adam))\n",
    "print(\"Validation Accuracy Set: \",repr(valid_accuracy_Adam))\n",
    "print(\"Test Loss Set: \", repr(test_loss_Adam))\n",
    "print(\"Test Accuracy Set: \",repr(test_accuracy_Adam))"
   ]
  },
  {
   "cell_type": "markdown",
   "metadata": {
    "colab_type": "text",
    "id": "dzNRDN01_7r_"
   },
   "source": [
    "##Plot"
   ]
  },
  {
   "cell_type": "code",
   "execution_count": 43,
   "metadata": {
    "colab": {
     "base_uri": "https://localhost:8080/",
     "height": 295
    },
    "colab_type": "code",
    "id": "XHAYwL6yNtOP",
    "outputId": "f62d2d3f-3836-47cf-8444-609893504d03"
   },
   "outputs": [
    {
     "data": {
      "image/png": "[encoded data removed]",
      "text/plain": [
       "<Figure size 432x288 with 1 Axes>"
      ]
     },
     "metadata": {
      "needs_background": "light",
      "tags": []
     },
     "output_type": "display_data"
    }
   ],
   "source": [
    "import matplotlib.pyplot as plt\n",
    "\n",
    "#Create array of epochs for X axis\n",
    "x_axis = np.zeros((20,1))\n",
    "for i in range(20):\n",
    "  x_axis[i] = i\n",
    "\n",
    "#Plot Validation Loss for each algorithm\n",
    "plt.title('Result Analysis')\n",
    "plt.plot(x_axis, valid_loss_SGD, color='green', label='SGD')\n",
    "plt.plot(x_axis, valid_loss_NAG, color='black', label='NAG')\n",
    "plt.plot(x_axis, valid_loss_HeavyBall, color='blue', label='HB')\n",
    "plt.plot(x_axis, valid_loss_ASGD, color='red', label='AccSGD')\n",
    "plt.plot(x_axis, valid_loss_Adam, label='Adam')\n",
    "\n",
    "plt.legend()\n",
    " \n",
    "plt.xlabel('Epoch Number')\n",
    "plt.ylabel('Cross Entropy Loss')\n",
    "plt.grid(axis='both')\n",
    "plt.savefig('Resnet8_decayedrate_validloss.png')\n",
    "plt.show()\n"
   ]
  },
  {
   "cell_type": "code",
   "execution_count": 44,
   "metadata": {
    "colab": {},
    "colab_type": "code",
    "id": "p5nMYxDfNurc"
   },
   "outputs": [],
   "source": [
    "from google.colab import files\n",
    "files.download(\"Resnet8_decayedrate_validloss.png\")"
   ]
  },
  {
   "cell_type": "code",
   "execution_count": 45,
   "metadata": {
    "colab": {
     "base_uri": "https://localhost:8080/",
     "height": 295
    },
    "colab_type": "code",
    "id": "M5QjdsRHCvti",
    "outputId": "a0692bc5-bb76-474d-c6f1-87bc3f0ba59f"
   },
   "outputs": [
    {
     "data": {
      "image/png": "[encoded data removed]",
      "text/plain": [
       "<Figure size 432x288 with 1 Axes>"
      ]
     },
     "metadata": {
      "needs_background": "light",
      "tags": []
     },
     "output_type": "display_data"
    }
   ],
   "source": [
    "#Create array of epochs for X axis\n",
    "x_axis = np.zeros((20,1))\n",
    "for i in range(20):\n",
    "  x_axis[i] = i\n",
    "\n",
    "#Plot Test Error for each algorithm\n",
    "plt.title('Result Analysis')\n",
    "plt.plot(x_axis, 1-test_accuracy_SGD, color='green', label='SGD')\n",
    "plt.plot(x_axis, 1-test_accuracy_NAG, color='black', label='NAG')\n",
    "plt.plot(x_axis, 1-test_accuracy_HeavyBall, color='blue', label='HB')\n",
    "plt.plot(x_axis, 1-test_accuracy_ASGD, color='red', label='AccSGD')\n",
    "plt.plot(x_axis, 1-test_accuracy_Adam, label='Adam')\n",
    "\n",
    "plt.legend()\n",
    " \n",
    "plt.xlabel('Epoch Number')\n",
    "plt.ylabel('Test Set Error')\n",
    "plt.grid(axis='both')\n",
    "plt.savefig('Resnet8_decayedrate_testerror.png')\n",
    "plt.show()"
   ]
  },
  {
   "cell_type": "code",
   "execution_count": 22,
   "metadata": {
    "colab": {},
    "colab_type": "code",
    "id": "_yNTlc2dC5ZI"
   },
   "outputs": [],
   "source": [
    "files.download(\"Resnet8_decayedrate_testerror.png\")"
   ]
  }
 ],
 "metadata": {
  "accelerator": "GPU",
  "colab": {
   "collapsed_sections": [],
   "name": "Resnet8_submission.ipynb",
   "provenance": [],
   "toc_visible": true
  },
  "kernelspec": {
   "display_name": "Python 3",
   "language": "python",
   "name": "python3"
  },
  "language_info": {
   "codemirror_mode": {
    "name": "ipython",
    "version": 3
   },
   "file_extension": ".py",
   "mimetype": "text/x-python",
   "name": "python",
   "nbconvert_exporter": "python",
   "pygments_lexer": "ipython3",
   "version": "3.8.3"
  }
 },
 "nbformat": 4,
 "nbformat_minor": 1
}
